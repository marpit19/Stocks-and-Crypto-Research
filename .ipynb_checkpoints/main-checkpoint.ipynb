{
 "cells": [
  {
   "cell_type": "markdown",
   "id": "7ebf6431",
   "metadata": {},
   "source": [
    "# Imports"
   ]
  },
  {
   "cell_type": "code",
   "execution_count": 7,
   "id": "a9058d70",
   "metadata": {},
   "outputs": [],
   "source": [
    "from transformers import PegasusTokenizer, PegasusForConditionalGeneration\n",
    "from bs4 import BeautifulSoup\n",
    "import requests"
   ]
  },
  {
   "cell_type": "markdown",
   "id": "5d41b5f4",
   "metadata": {},
   "source": [
    "# Summarization Model"
   ]
  },
  {
   "cell_type": "code",
   "execution_count": 5,
   "id": "a40d4685",
   "metadata": {},
   "outputs": [
    {
     "data": {
      "application/vnd.jupyter.widget-view+json": {
       "model_id": "6689faeb4ec34c7195aed3fcb023b3a7",
       "version_major": 2,
       "version_minor": 0
      },
      "text/plain": [
       "Downloading:   0%|          | 0.00/2.28G [00:00<?, ?B/s]"
      ]
     },
     "metadata": {},
     "output_type": "display_data"
    }
   ],
   "source": [
    "# Let's load the model and the tokenizer \n",
    "model_name = \"human-centered-summarization/financial-summarization-pegasus\"\n",
    "tokenizer = PegasusTokenizer.from_pretrained(model_name)\n",
    "model = PegasusForConditionalGeneration.from_pretrained(model_name)"
   ]
  },
  {
   "cell_type": "markdown",
   "id": "3c7fcf51",
   "metadata": {},
   "source": [
    "# Summarizing a Single Article"
   ]
  },
  {
   "cell_type": "code",
   "execution_count": 8,
   "id": "727f6300",
   "metadata": {},
   "outputs": [],
   "source": [
    "url = \"https://finance.yahoo.com/news/ftx-creditors-1-million-bankruptcy-142549111.html?guccounter=1&guce_referrer=aHR0cHM6Ly93d3cuZ29vZ2xlLmNvbS8&guce_referrer_sig=AQAAABj5_2d_pwiCQiOBAoEIUi_AbR4oGf5PSY39uc9K4tARJnZWzFIftaqrk7Fc7ZnGnk9gfZ2ek80FuAU3EEZWA0KKROOWeh962FZWUlJM-9IfcRpM_eBahEGjRRsIhMXLTW5TU-BbvPa1OrusN3Prfzz0k5kAN5nSXz4b6UF3ax0G\"\n",
    "r = requests.get(url)\n",
    "soup = BeautifulSoup(r.text, 'html.parser')\n",
    "paragraphs = soup.find_all('p')"
   ]
  },
  {
   "cell_type": "code",
   "execution_count": 11,
   "id": "936b49af",
   "metadata": {
    "scrolled": true
   },
   "outputs": [
    {
     "data": {
      "text/plain": [
       "\"FTX may have more than 1 million creditors, a new court document in the crypto exchange's bankruptcy case shows, ten times more than what the company said it had when it filed for Chapter 11 on Friday.\""
      ]
     },
     "execution_count": 11,
     "metadata": {},
     "output_type": "execute_result"
    }
   ],
   "source": [
    "paragraphs[0].text"
   ]
  },
  {
   "cell_type": "code",
   "execution_count": 10,
   "id": "576ab68f",
   "metadata": {},
   "outputs": [],
   "source": [
    "text = [paragraph.text for paragraph in paragraphs]\n",
    "words = ' '.join(text).split(' ')[:400]\n",
    "ARTICLE = ' '.join(words)"
   ]
  },
  {
   "cell_type": "code",
   "execution_count": 13,
   "id": "a5d905d1",
   "metadata": {
    "scrolled": true
   },
   "outputs": [
    {
     "data": {
      "text/plain": [
       "'FTX may have more than 1 million creditors, a new court document in the crypto exchange\\'s bankruptcy case shows, ten times more than what the company said it had when it filed for Chapter 11 on Friday. \"As set forth in the Debtors\\' petitions, there are over one hundred thousand creditors in these Chapter 11 cases. In fact, there could be more than one million creditors in these Chapter 11 Cases,\" FTX legal counsel said in the document filed Tuesday. The revelation underscores concerns among analysts and industry watchers over how wide and far FTX\\'s troubles could spread in the crypto industry. \"This is a huge black mark for the industry,\" Devin Ryan, director of financial technology research with JMP Securities, told Yahoo Finance. \"And there\\'s still a heck of a lot of uncertainty in terms of where we go from here, where the money trail goes.\" Since the FTX saga began over the past week, bitcoin has sold off by more than 14% from $19,717 to $16,847, while the total market capitalization for all crypto assets has fallen by 12% to $852 million, according to Coinmarketcap. In January, FTX carried a $32 billion post-money valuation. Ten months later, the company saw its exchange token FTT, a crypto variation on corporate stock, plummet from a market capitalization of $3.5 billion to $598 million over the first two weeks of November, preceding its bankruptcy filing. Documents reviewed by the Financial Times showed the company has a massive gap between customer liabilities and assets within in the range of $9 billion. That\\'s made its equity investors such as BlackRock and Sequoia Capital along with numerous other industry players, trading firms, and employees the company\\'s creditors in Chapter 11. Unlike banks, crypto exchanges don\\'t normally back their customer assets one to one. FTX\\'s terms of service states to customers “none of the Digital Assets in your Account are the property of, or shall or may be loaned to, FTX Trading.” Since last week, at least 13 firms have revealed they have $4 million to over $100 million in funds stuck on the platform. Crypto lending firm BlockFi, which was bailed out by FTX over the summer, also said Monday it would continue to pause withdrawals as it has \"significant exposure to FTX and associated corporate entities\" but does not have the majority of its funds in custody with the exchange. Shortly after FTX'"
      ]
     },
     "execution_count": 13,
     "metadata": {},
     "output_type": "execute_result"
    }
   ],
   "source": [
    "ARTICLE"
   ]
  },
  {
   "cell_type": "code",
   "execution_count": 16,
   "id": "f244c0ac",
   "metadata": {},
   "outputs": [],
   "source": [
    "input_ids = tokenizer.encode(ARTICLE, return_tensors='pt')\n",
    "output = model.generate(input_ids, max_length=100, num_beams=5, early_stopping=True)\n",
    "summary = tokenizer.decode(output[0], skip_special_tokens=True)"
   ]
  },
  {
   "cell_type": "code",
   "execution_count": 17,
   "id": "8ccacceb",
   "metadata": {},
   "outputs": [
    {
     "data": {
      "text/plain": [
       "'FTX may have more than 1 million creditors, court document shows. Bitcoin has fallen by more than 14% since FTX filed for bankruptcy'"
      ]
     },
     "execution_count": 17,
     "metadata": {},
     "output_type": "execute_result"
    }
   ],
   "source": [
    "summary"
   ]
  },
  {
   "cell_type": "code",
   "execution_count": null,
   "id": "6093ca2f",
   "metadata": {},
   "outputs": [],
   "source": []
  }
 ],
 "metadata": {
  "kernelspec": {
   "display_name": "Python 3 (ipykernel)",
   "language": "python",
   "name": "python3"
  },
  "language_info": {
   "codemirror_mode": {
    "name": "ipython",
    "version": 3
   },
   "file_extension": ".py",
   "mimetype": "text/x-python",
   "name": "python",
   "nbconvert_exporter": "python",
   "pygments_lexer": "ipython3",
   "version": "3.9.13"
  }
 },
 "nbformat": 4,
 "nbformat_minor": 5
}
