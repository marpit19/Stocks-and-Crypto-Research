{
 "cells": [
  {
   "cell_type": "markdown",
   "id": "b45875d8",
   "metadata": {},
   "source": [
    "# Imports"
   ]
  },
  {
   "cell_type": "code",
   "execution_count": 51,
   "id": "9f0ad912",
   "metadata": {},
   "outputs": [],
   "source": [
    "from transformers import PegasusTokenizer, PegasusForConditionalGeneration, pipeline\n",
    "from bs4 import BeautifulSoup\n",
    "import requests\n",
    "import re\n",
    "import csv"
   ]
  },
  {
   "cell_type": "markdown",
   "id": "986817d5",
   "metadata": {},
   "source": [
    "# Summarization Model"
   ]
  },
  {
   "cell_type": "code",
   "execution_count": 5,
   "id": "dfb579f5",
   "metadata": {},
   "outputs": [
    {
     "data": {
      "application/vnd.jupyter.widget-view+json": {
       "model_id": "6689faeb4ec34c7195aed3fcb023b3a7",
       "version_major": 2,
       "version_minor": 0
      },
      "text/plain": [
       "Downloading:   0%|          | 0.00/2.28G [00:00<?, ?B/s]"
      ]
     },
     "metadata": {},
     "output_type": "display_data"
    }
   ],
   "source": [
    "# Let's load the model and the tokenizer \n",
    "model_name = \"human-centered-summarization/financial-summarization-pegasus\"\n",
    "tokenizer = PegasusTokenizer.from_pretrained(model_name)\n",
    "model = PegasusForConditionalGeneration.from_pretrained(model_name)"
   ]
  },
  {
   "cell_type": "markdown",
   "id": "167ea285",
   "metadata": {},
   "source": [
    "# Summarizing a Single Article"
   ]
  },
  {
   "cell_type": "code",
   "execution_count": 8,
   "id": "1721aa94",
   "metadata": {},
   "outputs": [],
   "source": [
    "url = \"https://finance.yahoo.com/news/ftx-creditors-1-million-bankruptcy-142549111.html?guccounter=1&guce_referrer=aHR0cHM6Ly93d3cuZ29vZ2xlLmNvbS8&guce_referrer_sig=AQAAABj5_2d_pwiCQiOBAoEIUi_AbR4oGf5PSY39uc9K4tARJnZWzFIftaqrk7Fc7ZnGnk9gfZ2ek80FuAU3EEZWA0KKROOWeh962FZWUlJM-9IfcRpM_eBahEGjRRsIhMXLTW5TU-BbvPa1OrusN3Prfzz0k5kAN5nSXz4b6UF3ax0G\"\n",
    "r = requests.get(url)\n",
    "soup = BeautifulSoup(r.text, 'html.parser')\n",
    "paragraphs = soup.find_all('p')"
   ]
  },
  {
   "cell_type": "code",
   "execution_count": 11,
   "id": "45dfdcdd",
   "metadata": {
    "scrolled": true
   },
   "outputs": [
    {
     "data": {
      "text/plain": [
       "\"FTX may have more than 1 million creditors, a new court document in the crypto exchange's bankruptcy case shows, ten times more than what the company said it had when it filed for Chapter 11 on Friday.\""
      ]
     },
     "execution_count": 11,
     "metadata": {},
     "output_type": "execute_result"
    }
   ],
   "source": [
    "paragraphs[0].text"
   ]
  },
  {
   "cell_type": "code",
   "execution_count": 10,
   "id": "2181b1a6",
   "metadata": {},
   "outputs": [],
   "source": [
    "text = [paragraph.text for paragraph in paragraphs]\n",
    "words = ' '.join(text).split(' ')[:400]\n",
    "ARTICLE = ' '.join(words)"
   ]
  },
  {
   "cell_type": "code",
   "execution_count": 13,
   "id": "68c244d4",
   "metadata": {
    "scrolled": true
   },
   "outputs": [
    {
     "data": {
      "text/plain": [
       "'FTX may have more than 1 million creditors, a new court document in the crypto exchange\\'s bankruptcy case shows, ten times more than what the company said it had when it filed for Chapter 11 on Friday. \"As set forth in the Debtors\\' petitions, there are over one hundred thousand creditors in these Chapter 11 cases. In fact, there could be more than one million creditors in these Chapter 11 Cases,\" FTX legal counsel said in the document filed Tuesday. The revelation underscores concerns among analysts and industry watchers over how wide and far FTX\\'s troubles could spread in the crypto industry. \"This is a huge black mark for the industry,\" Devin Ryan, director of financial technology research with JMP Securities, told Yahoo Finance. \"And there\\'s still a heck of a lot of uncertainty in terms of where we go from here, where the money trail goes.\" Since the FTX saga began over the past week, bitcoin has sold off by more than 14% from $19,717 to $16,847, while the total market capitalization for all crypto assets has fallen by 12% to $852 million, according to Coinmarketcap. In January, FTX carried a $32 billion post-money valuation. Ten months later, the company saw its exchange token FTT, a crypto variation on corporate stock, plummet from a market capitalization of $3.5 billion to $598 million over the first two weeks of November, preceding its bankruptcy filing. Documents reviewed by the Financial Times showed the company has a massive gap between customer liabilities and assets within in the range of $9 billion. That\\'s made its equity investors such as BlackRock and Sequoia Capital along with numerous other industry players, trading firms, and employees the company\\'s creditors in Chapter 11. Unlike banks, crypto exchanges don\\'t normally back their customer assets one to one. FTX\\'s terms of service states to customers “none of the Digital Assets in your Account are the property of, or shall or may be loaned to, FTX Trading.” Since last week, at least 13 firms have revealed they have $4 million to over $100 million in funds stuck on the platform. Crypto lending firm BlockFi, which was bailed out by FTX over the summer, also said Monday it would continue to pause withdrawals as it has \"significant exposure to FTX and associated corporate entities\" but does not have the majority of its funds in custody with the exchange. Shortly after FTX'"
      ]
     },
     "execution_count": 13,
     "metadata": {},
     "output_type": "execute_result"
    }
   ],
   "source": [
    "ARTICLE"
   ]
  },
  {
   "cell_type": "code",
   "execution_count": 16,
   "id": "4a2a850d",
   "metadata": {},
   "outputs": [],
   "source": [
    "input_ids = tokenizer.encode(ARTICLE, return_tensors='pt')\n",
    "output = model.generate(input_ids, max_length=100, num_beams=5, early_stopping=True)\n",
    "summary = tokenizer.decode(output[0], skip_special_tokens=True)"
   ]
  },
  {
   "cell_type": "code",
   "execution_count": 17,
   "id": "6373ff10",
   "metadata": {},
   "outputs": [
    {
     "data": {
      "text/plain": [
       "'FTX may have more than 1 million creditors, court document shows. Bitcoin has fallen by more than 14% since FTX filed for bankruptcy'"
      ]
     },
     "execution_count": 17,
     "metadata": {},
     "output_type": "execute_result"
    }
   ],
   "source": [
    "summary"
   ]
  },
  {
   "cell_type": "markdown",
   "id": "6e9f557f",
   "metadata": {},
   "source": [
    "# Build a News and Sentiment Pipeline"
   ]
  },
  {
   "cell_type": "code",
   "execution_count": 18,
   "id": "0b364d9a",
   "metadata": {},
   "outputs": [],
   "source": [
    "monitored_tickers = ['ETH', 'FTX', 'BTC']"
   ]
  },
  {
   "cell_type": "code",
   "execution_count": 19,
   "id": "fc0561db",
   "metadata": {},
   "outputs": [],
   "source": [
    "def search_for_stock_news_urls(ticker):\n",
    "    search_url = \"https://www.google.com/search?q=yahoo+finance+{}&tbm=nws\".format(ticker)\n",
    "    r = requests.get(search_url)\n",
    "    soup = BeautifulSoup(r.text, 'html.parser')\n",
    "    atags = soup.find_all('a')\n",
    "    hrefs = [link['href'] for link in atags]\n",
    "    return hrefs "
   ]
  },
  {
   "cell_type": "code",
   "execution_count": 20,
   "id": "bb0b36d6",
   "metadata": {},
   "outputs": [],
   "source": [
    "raw_urls = {ticker:search_for_stock_news_urls(ticker) for ticker in monitored_tickers}"
   ]
  },
  {
   "cell_type": "code",
   "execution_count": 21,
   "id": "24d7a982",
   "metadata": {
    "scrolled": true
   },
   "outputs": [
    {
     "data": {
      "text/plain": [
       "{'ETH': ['/?sa=X&ved=0ahUKEwjgztnl7rD7AhXNumMGHTNFDzMQOwgC',\n",
       "  '/search?q=yahoo+finance+ETH&tbm=nws&ie=UTF-8&gbv=1&sei=DOFzY-CYFM31juMPs4q9mAM',\n",
       "  '/search?q=yahoo+finance+ETH&ie=UTF-8&source=lnms&sa=X&ved=0ahUKEwjgztnl7rD7AhXNumMGHTNFDzMQ_AUIBSgA',\n",
       "  '/search?q=yahoo+finance+ETH&ie=UTF-8&tbm=vid&source=lnms&sa=X&ved=0ahUKEwjgztnl7rD7AhXNumMGHTNFDzMQ_AUIBygC',\n",
       "  '/search?q=yahoo+finance+ETH&ie=UTF-8&tbm=isch&source=lnms&sa=X&ved=0ahUKEwjgztnl7rD7AhXNumMGHTNFDzMQ_AUICCgD',\n",
       "  'https://maps.google.com/maps?q=yahoo+finance+ETH&um=1&ie=UTF-8&sa=X&ved=0ahUKEwjgztnl7rD7AhXNumMGHTNFDzMQ_AUICSgE',\n",
       "  '/search?q=yahoo+finance+ETH&ie=UTF-8&tbm=shop&source=lnms&sa=X&ved=0ahUKEwjgztnl7rD7AhXNumMGHTNFDzMQ_AUICigF',\n",
       "  '/search?q=yahoo+finance+ETH&ie=UTF-8&tbm=bks&source=lnms&sa=X&ved=0ahUKEwjgztnl7rD7AhXNumMGHTNFDzMQ_AUICygG',\n",
       "  '/advanced_search',\n",
       "  '/search?q=yahoo+finance+ETH&ie=UTF-8&tbm=nws&source=lnt&tbs=qdr:h&sa=X&ved=0ahUKEwjgztnl7rD7AhXNumMGHTNFDzMQpwUIDQ',\n",
       "  '/search?q=yahoo+finance+ETH&ie=UTF-8&tbm=nws&source=lnt&tbs=qdr:d&sa=X&ved=0ahUKEwjgztnl7rD7AhXNumMGHTNFDzMQpwUIDg',\n",
       "  '/search?q=yahoo+finance+ETH&ie=UTF-8&tbm=nws&source=lnt&tbs=qdr:w&sa=X&ved=0ahUKEwjgztnl7rD7AhXNumMGHTNFDzMQpwUIDw',\n",
       "  '/search?q=yahoo+finance+ETH&ie=UTF-8&tbm=nws&source=lnt&tbs=qdr:m&sa=X&ved=0ahUKEwjgztnl7rD7AhXNumMGHTNFDzMQpwUIEA',\n",
       "  '/search?q=yahoo+finance+ETH&ie=UTF-8&tbm=nws&source=lnt&tbs=qdr:y&sa=X&ved=0ahUKEwjgztnl7rD7AhXNumMGHTNFDzMQpwUIEQ',\n",
       "  '/search?q=yahoo+finance+ETH&ie=UTF-8&tbm=nws&source=lnt&tbs=ar:1&sa=X&ved=0ahUKEwjgztnl7rD7AhXNumMGHTNFDzMQpwUIEg',\n",
       "  '/search?q=yahoo+finance+ETH&ie=UTF-8&tbm=nws&source=lnt&tbs=sbd:1&sa=X&ved=0ahUKEwjgztnl7rD7AhXNumMGHTNFDzMQpwUIFA',\n",
       "  '/url?q=https://uk.finance.yahoo.com/news/defi-exchange-overtakes-coinbase-for-eth-trades-ftx-161934796.html&sa=U&ved=2ahUKEwjgztnl7rD7AhXNumMGHTNFDzMQxfQBegQIBxAC&usg=AOvVaw2K66pgdIdGUMzqPX-w7iyl',\n",
       "  '/url?q=https://finance.yahoo.com/news/crypto-com-accidentally-sent-400m-145924881.html&sa=U&ved=2ahUKEwjgztnl7rD7AhXNumMGHTNFDzMQxfQBegQICRAC&usg=AOvVaw34CYVFwc83RwRcnHYVqsUO',\n",
       "  '/url?q=https://finance.yahoo.com/news/ether-capital-corporation-maintains-highest-173500016.html&sa=U&ved=2ahUKEwjgztnl7rD7AhXNumMGHTNFDzMQxfQBegQIAxAC&usg=AOvVaw25GGB_s20LO_v2CtH4RTcu',\n",
       "  '/url?q=https://finance.yahoo.com/news/first-mover-americas-ftxs-hacked-133244491.html&sa=U&ved=2ahUKEwjgztnl7rD7AhXNumMGHTNFDzMQxfQBegQICBAC&usg=AOvVaw2FxEU0JWIjIicJC1nNieK0',\n",
       "  '/url?q=https://finance.yahoo.com/news/ftx-hacker-panicked-still-holds-233057265.html&sa=U&ved=2ahUKEwjgztnl7rD7AhXNumMGHTNFDzMQxfQBegQIARAC&usg=AOvVaw3TVEG5RCuqiaLSAIgY-v3e',\n",
       "  '/url?q=https://finance.yahoo.com/news/retransmission-hive-announces-quarterly-revenue-110000288.html&sa=U&ved=2ahUKEwjgztnl7rD7AhXNumMGHTNFDzMQxfQBegQIBBAC&usg=AOvVaw3R0B7b18ZVrd7tvy1XK0P8',\n",
       "  '/url?q=https://finance.yahoo.com/news/ether-turns-deflationary-amount-eth-095751397.html&sa=U&ved=2ahUKEwjgztnl7rD7AhXNumMGHTNFDzMQxfQBegQIABAC&usg=AOvVaw07X0unNNDKthFkiWY6KW_w',\n",
       "  '/url?q=https://finance.yahoo.com/news/ether-sees-biggest-weekly-gain-082926717.html&sa=U&ved=2ahUKEwjgztnl7rD7AhXNumMGHTNFDzMQxfQBegQIBRAC&usg=AOvVaw3On_N3Cr1UsBcPrPrQif3w',\n",
       "  '/url?q=https://finance.yahoo.com/news/one-prdt-finance-might-roll-130000713.html&sa=U&ved=2ahUKEwjgztnl7rD7AhXNumMGHTNFDzMQxfQBegQIBhAC&usg=AOvVaw1zXH368wcKjAt_a65TKDGl',\n",
       "  '/url?q=https://finance.yahoo.com/news/crypto-fund-alamedas-ethereum-wallet-105636445.html&sa=U&ved=2ahUKEwjgztnl7rD7AhXNumMGHTNFDzMQxfQBegQIAhAC&usg=AOvVaw3W_QRsC8R3aAHnsRcV9xhq',\n",
       "  '/search?q=yahoo+finance+ETH&ie=UTF-8&tbm=nws&ei=DOFzY-CYFM31juMPs4q9mAM&start=10&sa=N',\n",
       "  '/url?q=https://support.google.com/websearch%3Fp%3Dws_settings_location%26hl%3Den-IN&sa=U&ved=0ahUKEwjgztnl7rD7AhXNumMGHTNFDzMQty4IUw&usg=AOvVaw0oqGPO_6GoERHnQcu4qZim',\n",
       "  '/url?q=https://accounts.google.com/ServiceLogin%3Fcontinue%3Dhttps://www.google.com/search%253Fq%253Dyahoo%252Bfinance%252BETH%2526tbm%253Dnws%26hl%3Den&sa=U&ved=0ahUKEwjgztnl7rD7AhXNumMGHTNFDzMQxs8CCFQ&usg=AOvVaw1iwqPqGiNnvbwRH60S_r54',\n",
       "  'https://www.google.com/preferences?hl=en-IN&fg=1&sa=X&ved=0ahUKEwjgztnl7rD7AhXNumMGHTNFDzMQ5fUCCFU',\n",
       "  'https://policies.google.com/privacy?hl=en-IN&fg=1',\n",
       "  'https://policies.google.com/terms?hl=en-IN&fg=1'],\n",
       " 'FTX': ['/?sa=X&ved=0ahUKEwig0pLm7rD7AhX7tmMGHVoJBn0QOwgC',\n",
       "  '/search?q=yahoo+finance+FTX&tbm=nws&ie=UTF-8&gbv=1&sei=DeFzY-CXEPvtjuMP2pKY6Ac',\n",
       "  '/search?q=yahoo+finance+FTX&ie=UTF-8&source=lnms&sa=X&ved=0ahUKEwig0pLm7rD7AhX7tmMGHVoJBn0Q_AUIBSgA',\n",
       "  '/search?q=yahoo+finance+FTX&ie=UTF-8&tbm=shop&source=lnms&sa=X&ved=0ahUKEwig0pLm7rD7AhX7tmMGHVoJBn0Q_AUIBigB',\n",
       "  '/search?q=yahoo+finance+FTX&ie=UTF-8&tbm=isch&source=lnms&sa=X&ved=0ahUKEwig0pLm7rD7AhX7tmMGHVoJBn0Q_AUIBygC',\n",
       "  'https://maps.google.com/maps?q=yahoo+finance+FTX&um=1&ie=UTF-8&sa=X&ved=0ahUKEwig0pLm7rD7AhX7tmMGHVoJBn0Q_AUICSgE',\n",
       "  '/search?q=yahoo+finance+FTX&ie=UTF-8&tbm=vid&source=lnms&sa=X&ved=0ahUKEwig0pLm7rD7AhX7tmMGHVoJBn0Q_AUICigF',\n",
       "  '/search?q=yahoo+finance+FTX&ie=UTF-8&tbm=bks&source=lnms&sa=X&ved=0ahUKEwig0pLm7rD7AhX7tmMGHVoJBn0Q_AUICygG',\n",
       "  '/advanced_search',\n",
       "  '/search?q=yahoo+finance+FTX&ie=UTF-8&tbm=nws&source=lnt&tbs=qdr:h&sa=X&ved=0ahUKEwig0pLm7rD7AhX7tmMGHVoJBn0QpwUIDQ',\n",
       "  '/search?q=yahoo+finance+FTX&ie=UTF-8&tbm=nws&source=lnt&tbs=qdr:d&sa=X&ved=0ahUKEwig0pLm7rD7AhX7tmMGHVoJBn0QpwUIDg',\n",
       "  '/search?q=yahoo+finance+FTX&ie=UTF-8&tbm=nws&source=lnt&tbs=qdr:w&sa=X&ved=0ahUKEwig0pLm7rD7AhX7tmMGHVoJBn0QpwUIDw',\n",
       "  '/search?q=yahoo+finance+FTX&ie=UTF-8&tbm=nws&source=lnt&tbs=qdr:m&sa=X&ved=0ahUKEwig0pLm7rD7AhX7tmMGHVoJBn0QpwUIEA',\n",
       "  '/search?q=yahoo+finance+FTX&ie=UTF-8&tbm=nws&source=lnt&tbs=qdr:y&sa=X&ved=0ahUKEwig0pLm7rD7AhX7tmMGHVoJBn0QpwUIEQ',\n",
       "  '/search?q=yahoo+finance+FTX&ie=UTF-8&tbm=nws&source=lnt&tbs=ar:1&sa=X&ved=0ahUKEwig0pLm7rD7AhX7tmMGHVoJBn0QpwUIEg',\n",
       "  '/search?q=yahoo+finance+FTX&ie=UTF-8&tbm=nws&source=lnt&tbs=sbd:1&sa=X&ved=0ahUKEwig0pLm7rD7AhX7tmMGHVoJBn0QpwUIFA',\n",
       "  '/url?q=https://finance.yahoo.com/news/ftx-creditors-1-million-bankruptcy-142549111.html&sa=U&ved=2ahUKEwig0pLm7rD7AhX7tmMGHVoJBn0QxfQBegQIAhAC&usg=AOvVaw34NsFJ-gDJK1Y4ak9zHLIe',\n",
       "  '/url?q=https://finance.yahoo.com/news/ft-xs-bust-and-crypto-crash-come-with-two-silver-linings-103045894.html&sa=U&ved=2ahUKEwig0pLm7rD7AhX7tmMGHVoJBn0QxfQBegQICRAC&usg=AOvVaw3DTGtvr1jtfSSB5syYrvwX',\n",
       "  '/url?q=https://finance.yahoo.com/news/sam-bankman-fried-jordan-belfort-of-crypto-era-microstrategy-193604232.html&sa=U&ved=2ahUKEwig0pLm7rD7AhX7tmMGHVoJBn0QxfQBegQIBxAC&usg=AOvVaw2PM_b4QO7C4Nt2X-qV8uPl',\n",
       "  '/url?q=https://finance.yahoo.com/news/ark-invest-ftx-delay-institutional-crypto-adoption-213422035.html&sa=U&ved=2ahUKEwig0pLm7rD7AhX7tmMGHVoJBn0QxfQBegQIBhAC&usg=AOvVaw2bnvgPL7EP-4QDltLuhRxf',\n",
       "  '/url?q=https://finance.yahoo.com/news/losing-almost-fortune-ftxs-sam-133052491.html&sa=U&ved=2ahUKEwig0pLm7rD7AhX7tmMGHVoJBn0QxfQBegQIBBAC&usg=AOvVaw0PaStUbdQe7UpiZlOYVW4J',\n",
       "  '/url?q=https://finance.yahoo.com/news/ikigai-blockfi-ftx-193551128.html&sa=U&ved=2ahUKEwig0pLm7rD7AhX7tmMGHVoJBn0QxfQBegQIARAC&usg=AOvVaw0D3U2d--jO-U7HaW2jBAAD',\n",
       "  '/url?q=https://finance.yahoo.com/video/coinbase-major-ramp-off-ramp-203807219.html&sa=U&ved=2ahUKEwig0pLm7rD7AhX7tmMGHVoJBn0QxfQBegQICBAC&usg=AOvVaw2cWpMVI_A_YsYfGqVT6u0A',\n",
       "  '/url?q=https://finance.yahoo.com/video/ftx-binance-fallout-creates-crypto-161926938.html&sa=U&ved=2ahUKEwig0pLm7rD7AhX7tmMGHVoJBn0QxfQBegQIBRAC&usg=AOvVaw1nr6BS5ANFjzHA_jbCR0n0',\n",
       "  '/url?q=https://finance.yahoo.com/news/explainer-whats-happening-bankrupt-crypto-213335145.html&sa=U&ved=2ahUKEwig0pLm7rD7AhX7tmMGHVoJBn0QxfQBegQIAxAC&usg=AOvVaw1qLM7D0Y8ZpNDpPauDjzVO',\n",
       "  '/url?q=https://finance.yahoo.com/news/funds-disappear-imploding-crypto-exchange-213514063.html&sa=U&ved=2ahUKEwig0pLm7rD7AhX7tmMGHVoJBn0QxfQBegQIABAC&usg=AOvVaw3EC0Irf279aI-FU66-gzS1',\n",
       "  '/search?q=yahoo+finance+FTX&ie=UTF-8&tbm=nws&ei=DeFzY-CXEPvtjuMP2pKY6Ac&start=10&sa=N',\n",
       "  '/url?q=https://support.google.com/websearch%3Fp%3Dws_settings_location%26hl%3Den-IN&sa=U&ved=0ahUKEwig0pLm7rD7AhX7tmMGHVoJBn0Qty4IUw&usg=AOvVaw2Pr3fMcqjY_Y534ARQ_B1Z',\n",
       "  '/url?q=https://accounts.google.com/ServiceLogin%3Fcontinue%3Dhttps://www.google.com/search%253Fq%253Dyahoo%252Bfinance%252BFTX%2526tbm%253Dnws%26hl%3Den&sa=U&ved=0ahUKEwig0pLm7rD7AhX7tmMGHVoJBn0Qxs8CCFQ&usg=AOvVaw1JcNcEG93rGpJHx3oDizWC',\n",
       "  'https://www.google.com/preferences?hl=en-IN&fg=1&sa=X&ved=0ahUKEwig0pLm7rD7AhX7tmMGHVoJBn0Q5fUCCFU',\n",
       "  'https://policies.google.com/privacy?hl=en-IN&fg=1',\n",
       "  'https://policies.google.com/terms?hl=en-IN&fg=1'],\n",
       " 'BTC': ['/?sa=X&ved=0ahUKEwiugs3m7rD7AhUxtGMGHZ-uCSQQOwgC',\n",
       "  '/search?q=yahoo+finance+BTC&tbm=nws&ie=UTF-8&gbv=1&sei=DuFzY67DDbHojuMPn92moAI',\n",
       "  '/search?q=yahoo+finance+BTC&ie=UTF-8&source=lnms&sa=X&ved=0ahUKEwiugs3m7rD7AhUxtGMGHZ-uCSQQ_AUIBSgA',\n",
       "  '/search?q=yahoo+finance+BTC&ie=UTF-8&tbm=isch&source=lnms&sa=X&ved=0ahUKEwiugs3m7rD7AhUxtGMGHZ-uCSQQ_AUIBygC',\n",
       "  '/search?q=yahoo+finance+BTC&ie=UTF-8&tbm=vid&source=lnms&sa=X&ved=0ahUKEwiugs3m7rD7AhUxtGMGHZ-uCSQQ_AUICCgD',\n",
       "  'https://maps.google.com/maps?q=yahoo+finance+BTC&um=1&ie=UTF-8&sa=X&ved=0ahUKEwiugs3m7rD7AhUxtGMGHZ-uCSQQ_AUICSgE',\n",
       "  '/search?q=yahoo+finance+BTC&ie=UTF-8&tbm=shop&source=lnms&sa=X&ved=0ahUKEwiugs3m7rD7AhUxtGMGHZ-uCSQQ_AUICigF',\n",
       "  '/search?q=yahoo+finance+BTC&ie=UTF-8&tbm=bks&source=lnms&sa=X&ved=0ahUKEwiugs3m7rD7AhUxtGMGHZ-uCSQQ_AUICygG',\n",
       "  '/advanced_search',\n",
       "  '/search?q=yahoo+finance+BTC&ie=UTF-8&tbm=nws&source=lnt&tbs=qdr:h&sa=X&ved=0ahUKEwiugs3m7rD7AhUxtGMGHZ-uCSQQpwUIDQ',\n",
       "  '/search?q=yahoo+finance+BTC&ie=UTF-8&tbm=nws&source=lnt&tbs=qdr:d&sa=X&ved=0ahUKEwiugs3m7rD7AhUxtGMGHZ-uCSQQpwUIDg',\n",
       "  '/search?q=yahoo+finance+BTC&ie=UTF-8&tbm=nws&source=lnt&tbs=qdr:w&sa=X&ved=0ahUKEwiugs3m7rD7AhUxtGMGHZ-uCSQQpwUIDw',\n",
       "  '/search?q=yahoo+finance+BTC&ie=UTF-8&tbm=nws&source=lnt&tbs=qdr:m&sa=X&ved=0ahUKEwiugs3m7rD7AhUxtGMGHZ-uCSQQpwUIEA',\n",
       "  '/search?q=yahoo+finance+BTC&ie=UTF-8&tbm=nws&source=lnt&tbs=qdr:y&sa=X&ved=0ahUKEwiugs3m7rD7AhUxtGMGHZ-uCSQQpwUIEQ',\n",
       "  '/search?q=yahoo+finance+BTC&ie=UTF-8&tbm=nws&source=lnt&tbs=ar:1&sa=X&ved=0ahUKEwiugs3m7rD7AhUxtGMGHZ-uCSQQpwUIEg',\n",
       "  '/search?q=yahoo+finance+BTC&ie=UTF-8&tbm=nws&source=lnt&tbs=sbd:1&sa=X&ved=0ahUKEwiugs3m7rD7AhUxtGMGHZ-uCSQQpwUIFA',\n",
       "  '/url?q=https://finance.yahoo.com/news/warren-buffett-dismissed-bitcoin-worthless-092907947.html&sa=U&ved=2ahUKEwiugs3m7rD7AhUxtGMGHZ-uCSQQxfQBegQIAhAC&usg=AOvVaw3Kviu3A5xDvFwm2y2smdRf',\n",
       "  '/url?q=https://finance.yahoo.com/news/world-biggest-crypto-fund-hits-150837105.html&sa=U&ved=2ahUKEwiugs3m7rD7AhUxtGMGHZ-uCSQQxfQBegQICRAC&usg=AOvVaw0eVEi4j2UYzYpA6s2pC9iE',\n",
       "  '/url?q=https://finance.yahoo.com/news/ft-xs-bust-and-crypto-crash-come-with-two-silver-linings-103045894.html&sa=U&ved=2ahUKEwiugs3m7rD7AhUxtGMGHZ-uCSQQxfQBegQIBBAC&usg=AOvVaw2ake3p_ymAT6DV4n9ZfA6p',\n",
       "  '/url?q=https://finance.yahoo.com/news/come-bad-ending-one-since-120000331.html&sa=U&ved=2ahUKEwiugs3m7rD7AhUxtGMGHZ-uCSQQxfQBegQIAxAC&usg=AOvVaw3FxKysA1LWTC64OrnIoIHQ',\n",
       "  '/url?q=https://finance.yahoo.com/news/bitcoin-crypto-ftx-binance-contagion-224955324.html&sa=U&ved=2ahUKEwiugs3m7rD7AhUxtGMGHZ-uCSQQxfQBegQIABAC&usg=AOvVaw2HknzKm5BiNuyGzrfFbq82',\n",
       "  '/url?q=https://finance.yahoo.com/news/crypto-investors-pulling-bitcoin-exchanges-205544298.html&sa=U&ved=2ahUKEwiugs3m7rD7AhUxtGMGHZ-uCSQQxfQBegQIBRAC&usg=AOvVaw02dVPiMrsQI9tcDprO_Uut',\n",
       "  '/url?q=https://finance.yahoo.com/news/rich-dad-poor-dad-author-150109662.html&sa=U&ved=2ahUKEwiugs3m7rD7AhUxtGMGHZ-uCSQQxfQBegQIBhAC&usg=AOvVaw01TUYRGxMeetHW-b36O3oX',\n",
       "  '/url?q=https://finance.yahoo.com/news/digihost-reports-positive-third-quarter-110000487.html&sa=U&ved=2ahUKEwiugs3m7rD7AhUxtGMGHZ-uCSQQxfQBegQIARAC&usg=AOvVaw0DBGU6Yy9L9_J3v-ICsm4b',\n",
       "  '/url?q=https://finance.yahoo.com/news/renewed-bitcoin-market-swoon-put-084806575.html&sa=U&ved=2ahUKEwiugs3m7rD7AhUxtGMGHZ-uCSQQxfQBegQIBxAC&usg=AOvVaw2bk9Jq_MEmDwxIXNeqTmg-',\n",
       "  '/url?q=https://finance.yahoo.com/news/bitcoin-what-to-know-about-crypto-185658105.html&sa=U&ved=2ahUKEwiugs3m7rD7AhUxtGMGHZ-uCSQQxfQBegQICBAC&usg=AOvVaw3fMOTpiIZZH-RM9aL2aE2b',\n",
       "  '/search?q=yahoo+finance+BTC&ie=UTF-8&tbm=nws&ei=DuFzY67DDbHojuMPn92moAI&start=10&sa=N',\n",
       "  '/url?q=https://support.google.com/websearch%3Fp%3Dws_settings_location%26hl%3Den-IN&sa=U&ved=0ahUKEwiugs3m7rD7AhUxtGMGHZ-uCSQQty4IUw&usg=AOvVaw0v6nUgbVeSA6d4YPVYx3HQ',\n",
       "  '/url?q=https://accounts.google.com/ServiceLogin%3Fcontinue%3Dhttps://www.google.com/search%253Fq%253Dyahoo%252Bfinance%252BBTC%2526tbm%253Dnws%26hl%3Den&sa=U&ved=0ahUKEwiugs3m7rD7AhUxtGMGHZ-uCSQQxs8CCFQ&usg=AOvVaw3LbCzwlGy3bRLSJcndprQM',\n",
       "  'https://www.google.com/preferences?hl=en-IN&fg=1&sa=X&ved=0ahUKEwiugs3m7rD7AhUxtGMGHZ-uCSQQ5fUCCFU',\n",
       "  'https://policies.google.com/privacy?hl=en-IN&fg=1',\n",
       "  'https://policies.google.com/terms?hl=en-IN&fg=1']}"
      ]
     },
     "execution_count": 21,
     "metadata": {},
     "output_type": "execute_result"
    }
   ],
   "source": [
    "raw_urls"
   ]
  },
  {
   "cell_type": "code",
   "execution_count": 22,
   "id": "395f1af3",
   "metadata": {
    "scrolled": true
   },
   "outputs": [
    {
     "data": {
      "text/plain": [
       "['/?sa=X&ved=0ahUKEwjgztnl7rD7AhXNumMGHTNFDzMQOwgC',\n",
       " '/search?q=yahoo+finance+ETH&tbm=nws&ie=UTF-8&gbv=1&sei=DOFzY-CYFM31juMPs4q9mAM',\n",
       " '/search?q=yahoo+finance+ETH&ie=UTF-8&source=lnms&sa=X&ved=0ahUKEwjgztnl7rD7AhXNumMGHTNFDzMQ_AUIBSgA',\n",
       " '/search?q=yahoo+finance+ETH&ie=UTF-8&tbm=vid&source=lnms&sa=X&ved=0ahUKEwjgztnl7rD7AhXNumMGHTNFDzMQ_AUIBygC',\n",
       " '/search?q=yahoo+finance+ETH&ie=UTF-8&tbm=isch&source=lnms&sa=X&ved=0ahUKEwjgztnl7rD7AhXNumMGHTNFDzMQ_AUICCgD',\n",
       " 'https://maps.google.com/maps?q=yahoo+finance+ETH&um=1&ie=UTF-8&sa=X&ved=0ahUKEwjgztnl7rD7AhXNumMGHTNFDzMQ_AUICSgE',\n",
       " '/search?q=yahoo+finance+ETH&ie=UTF-8&tbm=shop&source=lnms&sa=X&ved=0ahUKEwjgztnl7rD7AhXNumMGHTNFDzMQ_AUICigF',\n",
       " '/search?q=yahoo+finance+ETH&ie=UTF-8&tbm=bks&source=lnms&sa=X&ved=0ahUKEwjgztnl7rD7AhXNumMGHTNFDzMQ_AUICygG',\n",
       " '/advanced_search',\n",
       " '/search?q=yahoo+finance+ETH&ie=UTF-8&tbm=nws&source=lnt&tbs=qdr:h&sa=X&ved=0ahUKEwjgztnl7rD7AhXNumMGHTNFDzMQpwUIDQ',\n",
       " '/search?q=yahoo+finance+ETH&ie=UTF-8&tbm=nws&source=lnt&tbs=qdr:d&sa=X&ved=0ahUKEwjgztnl7rD7AhXNumMGHTNFDzMQpwUIDg',\n",
       " '/search?q=yahoo+finance+ETH&ie=UTF-8&tbm=nws&source=lnt&tbs=qdr:w&sa=X&ved=0ahUKEwjgztnl7rD7AhXNumMGHTNFDzMQpwUIDw',\n",
       " '/search?q=yahoo+finance+ETH&ie=UTF-8&tbm=nws&source=lnt&tbs=qdr:m&sa=X&ved=0ahUKEwjgztnl7rD7AhXNumMGHTNFDzMQpwUIEA',\n",
       " '/search?q=yahoo+finance+ETH&ie=UTF-8&tbm=nws&source=lnt&tbs=qdr:y&sa=X&ved=0ahUKEwjgztnl7rD7AhXNumMGHTNFDzMQpwUIEQ',\n",
       " '/search?q=yahoo+finance+ETH&ie=UTF-8&tbm=nws&source=lnt&tbs=ar:1&sa=X&ved=0ahUKEwjgztnl7rD7AhXNumMGHTNFDzMQpwUIEg',\n",
       " '/search?q=yahoo+finance+ETH&ie=UTF-8&tbm=nws&source=lnt&tbs=sbd:1&sa=X&ved=0ahUKEwjgztnl7rD7AhXNumMGHTNFDzMQpwUIFA',\n",
       " '/url?q=https://uk.finance.yahoo.com/news/defi-exchange-overtakes-coinbase-for-eth-trades-ftx-161934796.html&sa=U&ved=2ahUKEwjgztnl7rD7AhXNumMGHTNFDzMQxfQBegQIBxAC&usg=AOvVaw2K66pgdIdGUMzqPX-w7iyl',\n",
       " '/url?q=https://finance.yahoo.com/news/crypto-com-accidentally-sent-400m-145924881.html&sa=U&ved=2ahUKEwjgztnl7rD7AhXNumMGHTNFDzMQxfQBegQICRAC&usg=AOvVaw34CYVFwc83RwRcnHYVqsUO',\n",
       " '/url?q=https://finance.yahoo.com/news/ether-capital-corporation-maintains-highest-173500016.html&sa=U&ved=2ahUKEwjgztnl7rD7AhXNumMGHTNFDzMQxfQBegQIAxAC&usg=AOvVaw25GGB_s20LO_v2CtH4RTcu',\n",
       " '/url?q=https://finance.yahoo.com/news/first-mover-americas-ftxs-hacked-133244491.html&sa=U&ved=2ahUKEwjgztnl7rD7AhXNumMGHTNFDzMQxfQBegQICBAC&usg=AOvVaw2FxEU0JWIjIicJC1nNieK0',\n",
       " '/url?q=https://finance.yahoo.com/news/ftx-hacker-panicked-still-holds-233057265.html&sa=U&ved=2ahUKEwjgztnl7rD7AhXNumMGHTNFDzMQxfQBegQIARAC&usg=AOvVaw3TVEG5RCuqiaLSAIgY-v3e',\n",
       " '/url?q=https://finance.yahoo.com/news/retransmission-hive-announces-quarterly-revenue-110000288.html&sa=U&ved=2ahUKEwjgztnl7rD7AhXNumMGHTNFDzMQxfQBegQIBBAC&usg=AOvVaw3R0B7b18ZVrd7tvy1XK0P8',\n",
       " '/url?q=https://finance.yahoo.com/news/ether-turns-deflationary-amount-eth-095751397.html&sa=U&ved=2ahUKEwjgztnl7rD7AhXNumMGHTNFDzMQxfQBegQIABAC&usg=AOvVaw07X0unNNDKthFkiWY6KW_w',\n",
       " '/url?q=https://finance.yahoo.com/news/ether-sees-biggest-weekly-gain-082926717.html&sa=U&ved=2ahUKEwjgztnl7rD7AhXNumMGHTNFDzMQxfQBegQIBRAC&usg=AOvVaw3On_N3Cr1UsBcPrPrQif3w',\n",
       " '/url?q=https://finance.yahoo.com/news/one-prdt-finance-might-roll-130000713.html&sa=U&ved=2ahUKEwjgztnl7rD7AhXNumMGHTNFDzMQxfQBegQIBhAC&usg=AOvVaw1zXH368wcKjAt_a65TKDGl',\n",
       " '/url?q=https://finance.yahoo.com/news/crypto-fund-alamedas-ethereum-wallet-105636445.html&sa=U&ved=2ahUKEwjgztnl7rD7AhXNumMGHTNFDzMQxfQBegQIAhAC&usg=AOvVaw3W_QRsC8R3aAHnsRcV9xhq',\n",
       " '/search?q=yahoo+finance+ETH&ie=UTF-8&tbm=nws&ei=DOFzY-CYFM31juMPs4q9mAM&start=10&sa=N',\n",
       " '/url?q=https://support.google.com/websearch%3Fp%3Dws_settings_location%26hl%3Den-IN&sa=U&ved=0ahUKEwjgztnl7rD7AhXNumMGHTNFDzMQty4IUw&usg=AOvVaw0oqGPO_6GoERHnQcu4qZim',\n",
       " '/url?q=https://accounts.google.com/ServiceLogin%3Fcontinue%3Dhttps://www.google.com/search%253Fq%253Dyahoo%252Bfinance%252BETH%2526tbm%253Dnws%26hl%3Den&sa=U&ved=0ahUKEwjgztnl7rD7AhXNumMGHTNFDzMQxs8CCFQ&usg=AOvVaw1iwqPqGiNnvbwRH60S_r54',\n",
       " 'https://www.google.com/preferences?hl=en-IN&fg=1&sa=X&ved=0ahUKEwjgztnl7rD7AhXNumMGHTNFDzMQ5fUCCFU',\n",
       " 'https://policies.google.com/privacy?hl=en-IN&fg=1',\n",
       " 'https://policies.google.com/terms?hl=en-IN&fg=1']"
      ]
     },
     "execution_count": 22,
     "metadata": {},
     "output_type": "execute_result"
    }
   ],
   "source": [
    "raw_urls['ETH']"
   ]
  },
  {
   "cell_type": "markdown",
   "id": "c2722d7c",
   "metadata": {},
   "source": [
    "### Getting rid of unwanted URLs"
   ]
  },
  {
   "cell_type": "code",
   "execution_count": 24,
   "id": "84f9e5ee",
   "metadata": {},
   "outputs": [],
   "source": [
    "exclude_list = ['maps', 'policies', 'preferences', 'accounts', 'support']"
   ]
  },
  {
   "cell_type": "code",
   "execution_count": 25,
   "id": "35c9650c",
   "metadata": {},
   "outputs": [],
   "source": [
    "def strip_unwanted_urls(urls, exclude_list):\n",
    "    val = []\n",
    "    for url in urls: \n",
    "        if 'https://' in url and not any(exclude_word in url for exclude_word in exclude_list):\n",
    "            res = re.findall(r'(https?://\\S+)', url)[0].split('&')[0]\n",
    "            val.append(res)\n",
    "    return list(set(val))"
   ]
  },
  {
   "cell_type": "code",
   "execution_count": 26,
   "id": "97934b5d",
   "metadata": {
    "scrolled": true
   },
   "outputs": [
    {
     "data": {
      "text/plain": [
       "{'ETH': ['https://uk.finance.yahoo.com/news/defi-exchange-overtakes-coinbase-for-eth-trades-ftx-161934796.html',\n",
       "  'https://finance.yahoo.com/news/ftx-hacker-panicked-still-holds-233057265.html',\n",
       "  'https://finance.yahoo.com/news/crypto-fund-alamedas-ethereum-wallet-105636445.html',\n",
       "  'https://finance.yahoo.com/news/ether-capital-corporation-maintains-highest-173500016.html',\n",
       "  'https://finance.yahoo.com/news/first-mover-americas-ftxs-hacked-133244491.html',\n",
       "  'https://finance.yahoo.com/news/retransmission-hive-announces-quarterly-revenue-110000288.html',\n",
       "  'https://finance.yahoo.com/news/one-prdt-finance-might-roll-130000713.html',\n",
       "  'https://finance.yahoo.com/news/ether-turns-deflationary-amount-eth-095751397.html',\n",
       "  'https://finance.yahoo.com/news/ether-sees-biggest-weekly-gain-082926717.html',\n",
       "  'https://finance.yahoo.com/news/crypto-com-accidentally-sent-400m-145924881.html'],\n",
       " 'FTX': ['https://finance.yahoo.com/news/ft-xs-bust-and-crypto-crash-come-with-two-silver-linings-103045894.html',\n",
       "  'https://finance.yahoo.com/news/ftx-creditors-1-million-bankruptcy-142549111.html',\n",
       "  'https://finance.yahoo.com/news/sam-bankman-fried-jordan-belfort-of-crypto-era-microstrategy-193604232.html',\n",
       "  'https://finance.yahoo.com/news/ark-invest-ftx-delay-institutional-crypto-adoption-213422035.html',\n",
       "  'https://finance.yahoo.com/news/explainer-whats-happening-bankrupt-crypto-213335145.html',\n",
       "  'https://finance.yahoo.com/news/ikigai-blockfi-ftx-193551128.html',\n",
       "  'https://finance.yahoo.com/video/coinbase-major-ramp-off-ramp-203807219.html',\n",
       "  'https://finance.yahoo.com/news/funds-disappear-imploding-crypto-exchange-213514063.html',\n",
       "  'https://finance.yahoo.com/news/losing-almost-fortune-ftxs-sam-133052491.html',\n",
       "  'https://finance.yahoo.com/video/ftx-binance-fallout-creates-crypto-161926938.html'],\n",
       " 'BTC': ['https://finance.yahoo.com/news/ft-xs-bust-and-crypto-crash-come-with-two-silver-linings-103045894.html',\n",
       "  'https://finance.yahoo.com/news/bitcoin-what-to-know-about-crypto-185658105.html',\n",
       "  'https://finance.yahoo.com/news/come-bad-ending-one-since-120000331.html',\n",
       "  'https://finance.yahoo.com/news/crypto-investors-pulling-bitcoin-exchanges-205544298.html',\n",
       "  'https://finance.yahoo.com/news/rich-dad-poor-dad-author-150109662.html',\n",
       "  'https://finance.yahoo.com/news/bitcoin-crypto-ftx-binance-contagion-224955324.html',\n",
       "  'https://finance.yahoo.com/news/digihost-reports-positive-third-quarter-110000487.html',\n",
       "  'https://finance.yahoo.com/news/renewed-bitcoin-market-swoon-put-084806575.html',\n",
       "  'https://finance.yahoo.com/news/world-biggest-crypto-fund-hits-150837105.html',\n",
       "  'https://finance.yahoo.com/news/warren-buffett-dismissed-bitcoin-worthless-092907947.html']}"
      ]
     },
     "execution_count": 26,
     "metadata": {},
     "output_type": "execute_result"
    }
   ],
   "source": [
    "cleaned_urls = {ticker:strip_unwanted_urls(raw_urls[ticker], exclude_list) for ticker in monitored_tickers}\n",
    "cleaned_urls"
   ]
  },
  {
   "cell_type": "markdown",
   "id": "777cb283",
   "metadata": {},
   "source": [
    "### Searching and Scraping Cleaned URLs"
   ]
  },
  {
   "cell_type": "code",
   "execution_count": 27,
   "id": "bd8fb039",
   "metadata": {},
   "outputs": [],
   "source": [
    "def scrape_and_process(URLs):\n",
    "    ARTICLES = []\n",
    "    for url in URLs: \n",
    "        r = requests.get(url)\n",
    "        soup = BeautifulSoup(r.text, 'html.parser')\n",
    "        paragraphs = soup.find_all('p')\n",
    "        text = [paragraph.text for paragraph in paragraphs]\n",
    "        words = ' '.join(text).split(' ')[:350]\n",
    "        ARTICLE = ' '.join(words)\n",
    "        ARTICLES.append(ARTICLE)\n",
    "    return ARTICLES"
   ]
  },
  {
   "cell_type": "code",
   "execution_count": 28,
   "id": "a73fbcdd",
   "metadata": {},
   "outputs": [
    {
     "data": {
      "text/plain": [
       "{'ETH': ['Billions of dollars lost as FTX crypto exchange implodes Decentralised cryptocurrency exchange Uniswap flipped Coinbase (COIN) to become the second-largest platform for trading ethereum after Binance, in the wake of the FTX implosion. In the last 24 hours, Uniswap has eclipsed major centralised exchange Coinbase for ethereum (ETH-USD) trades according to data from Traders are flocking to decentralised exchanges (DEXs) in the wake of FTX’s sudden, catastrophic implosion. In the wake of the FTX crisis, bitcoin (BTC-USD) is standing at $17,042 (£14,330) as of the time of writing, up 2.6% in the past 24 hours and ethereum jumped over 1.8% in the past day to $1,270. Check: Crypto live prices The news of a possible mass movement to decentralised exchanges was shared on Twitter today by the inventor of Uniswap. Uniswap inventor Hayden Adams tweeted: \"DEX starting to replace CEX? \"Total ETH/USD (or stables) volume:Binance: ~$1.9b, Uniswap: ~$1.1b, Coinbase: ~$0.6b.\" According to data from Coingecko Coinbase accounts for $564,937,971 worth of ethereum trades in the last 24 hours, while Uniswap accounts for $966.17 million. Decentralised cryptocurrency exchanges differ from centralised ones (CEXs) in that the cryptocurrencies that are traded are not held by the actual exchange but stay within user wallets and are exchanged in a peer-to-peer way that utilises blockchain smart contracts. One of the key arguments outlined in Satoshi Nakamoto\\'s Bitcoin White Paper, now over a decade old, is the need to take monetary control out of the hands of centralised authorities and create a truly peer-to-peer method of exchange. This is why advocates of decentralisation see centralised cryptocurrency exchanges as basically the same as the legacy financial authorities that the crypto industry is attempting to replace. Alternatively, decentralised exchanges, or DEXs, have no centralised authority and user assets stay within their own wallet and are not controlled by the exchange. In the case of FTX.com, it has been reported by Reuters that the centralised exchange included a portion of customer deposits in loans to a related trading arm called Alameda Research. So, since the collapse of one of the most prominent centralised cryptocurrency exchanges, FTX, cryptocurrency traders',\n",
       "  \"The mysterious looter of bankrupt crypto exchange FTX, who is likely an insider according to a blockchain expert, holds $339 million of digital assets that they drained from the exchange late Friday, according to crypto intelligence platform Arkham Intelligence. Arkham found that the wallets associated with the exploiter hold $215 million in ETH, the native token of the Ethereum blockchain, $48 million in Maker’s stablecoin DAI, $44 million in BNB, the Binance ecosystem’s native token, $4 million in Tether’s USDT stablecoin on the Avalanche blockchain and $3.8 million of MATIC on Polygon’s Matic bridge. Some $20 million in PAXG, a Paxos stablecoin linked to the price of gold, was frozen when Paxos was ordered to blacklist the accounts by U.S. authorities, preventing the holder from moving or cashing out the tokens. Late Friday night, the insolvent crypto exchange FTX of Sam Bankman-Fried, suffered suspicious outflows exceeding $600 million, as CoinDesk reported. One entity at the center of the exploit siphoned off about $400 million from the exchange’s crypto wallets. The attack came after FTX, and the other 137 firms of Bankman-Fried’s crypto conglomerate, filed for bankruptcy protection the same day. Read more: 'FTX Has Been Hacked': Crypto Disaster Worsens as Exchange Sees Mysterious Outflows Exceeding $600M The hacker acted hastily based on their behavior on the blockchain, according to Arkham’s report. They used various decentralized exchanges to convert tokens, including UniSwap, 1inch and CowSwap, and struggled to dump coins such as MATIC, LINK and PAXG divided into smaller amounts to prevent losses from slippage. After tracing the attacker’s blockchain transactions, Arkham found that they “appeared to be in panic” and “lost a large amount of their token holdings” when they moved assets across different chains to avoid getting caught. In a likely attempt to consolidate their holdings, they also converted tokens to ETH and DAI on the Ethereum network, movements that cannot be easily sanctioned by authorities. “It is becoming clearer by the day that the FTX exploiter is not very sophisticated,” Miguel Morel, chief executive of Arkham Intelligence, told CoinDesk. “They've hastily tried to do whatever they can with\",\n",
       "  \"Crypto fund Alameda Research holds just over $222 million in cryptocurrencies over 56 Ethereum addresses, analysis by on-chain researcher Lookonchain showed Wednesday. That's half the more than $500 million it had Oct. 1, according to data compiled by The Block. Ether (ETH), the native token of the Ethereum blockchain, fell just over 8% in the same period. Alameda has come under scrutiny following a CoinDesk report last week that found its balance sheet was full of FTT, the native token of crypto exchange FTX. Both companies are owned by Sam Bankman-Fried, meaning the trading fund rested on a foundation largely made up of a coin invented by its sister company, not an independent asset like a fiat currency or another cryptocurrency. More than $150 million of Alameda's tokens are held in its Ethereum wallets, with 50% of that held in just one wallet. Another 13 addresses hold more than $1 million, and 19 contain $100,000. Some $75 million worth of tokens is held in decentralized finance (DeFi)-based wallets. Crypto holdings over $1 million consist of stablecoins, ether, BitDAO (BIT) and FTT. Alameda has debt of $3.6 million overall, the research shows. Alameda supplied more than 6.9 million FTT tokens, worth $35 million at the time of this writing, to DeFi lending application Abracadabra. Another 4.6 million SUSHI, worth $6.11 million, is held on the DeFi exchange SushiSwap. “She could withdraw and sell at any time,” Lookonchain said, referring to Alameda co-CEO Caroline Ellison. Alameda didn't immediately respond to a request for comment. Related Quotes\",\n",
       "  'TORONTO, November 15, 2022--(BUSINESS WIRE)--Ether Capital Corporation (\"Ether Capital\" or the \"Company\") (NEO: ETHC) would like to reassure its investors on the Company’s handling of its assets and financial strength in response to the latest developments surrounding cryptocurrency exchange FTX. Ether Capital has no exposure to FTX or its affiliated businesses. We don’t take risks when it comes to our capital and never have since inception. Protecting our Ether is paramount, which is why it is securely held in cold storage using an auditor-approved, multi-signature wallet. This wallet is safeguarded by the Company’s management team and board of directors. In addition to holding 44,899 ETH on our balance sheet (21,278 of which is Staked Ether), the Company has a healthy amount of liquidity in cash and investments. There is no debt secured against our Ether (including Staked Ether), as well as any other financial or legal claims. Figment, a non-custodial staking provider, operates validators on behalf of our Company and has confirmed there will be no direct or immediate impact on its business in light of recent events. We have chosen to invest in Ethereum, a highly collateralized and transparent protocol, and remain optimistic about the future of the network. The events of the past week do not sway our conviction and we’ll continue to focus on staking and yield generation in the months ahead. The Company will continue to monitor the situation involving FTX in the coming weeks and disclose any relevant information. Investors are encouraged to sign-up for Ether Capital’s corporate updates and newsletter to stay informed about the latest developments. About Ether Capital Corporation \\u200b\\u200bEther Capital (NEO: ETHC) is a leading public technology company with a long-term objective to become a central business and investment hub for the Ethereum ecosystem. The company has invested the majority of its balance sheet in Ethereum’s native utility token \"Ether\" as a core strategic asset and yield-generating instrument. The company is focused on financial infrastructure that supports the Ethereum blockchain and delivers corporate value. Ether Capital’s management team and Board of Directors are comprised of crypto natives, leading venture capitalists and',\n",
       "  'Thank you for your patience. Our engineers are working quickly to resolve the issue.',\n",
       "  'This news release constitutes a \"designated news release\" for the purposes of the Company\\'s prospectus supplement dated September 2, 2022 to its amended and restated short form base shelf prospectus dated January 4, 2022 Vancouver, British Columbia--(Newsfile Corp. - November 15, 2022) - HIVE Blockchain Technologies Ltd. (TSXV: HIVE) (Nasdaq: HIVE) (FSE: HBFA) (the \"Company\" or \"HIVE\") a leading digital asset miners and green focused data center builder and operator, is pleased to announce the earnings report for the second quarter ended September 30, 2022 (all amounts in US dollars, unless otherwise indicated). HIVE achieved revenue of $29.6 million this quarter, by mining 858 green and clean Bitcoin and 7,309 Ethereum, which were subsequently sold to reinvest in new ASIC mining equipment. As such, HIVE\\'s production of Bitcoin has increased by 4.5% quarter over quarter while the Company\\'s average daily production of Ethereum increased from 84.3 ETH per day to 94.9 ETH this quarter, prior to the September 15th, 2022, Merge date when we ceased mining Ethereum. However, in the previous quarter Bitcoin and Ethereum average prices were higher resulting in an increase of $44.2 million revenue over the previous quarter. The Company notes that HIVE\\'s production of 858 Bitcoin this quarter represents an increase of 31% year over year, with the same period last year, having mined 656 Bitcoin reflecting a substantial growth in our operating hashrate. This is in large part a result of our New Brunswick facility expanding from 30MW last year, to operating approximately 17,300 new generation ASIC miners, operating at approximately 60MW of capacity. This large increase in quantity of Bitcoin production stands even as network difficulty has effectively doubled during this one-year period and prices have fallen approximately 60%. Frank Holmes, HIVE\\'s Executive Chairman, stated \"\"We wish to again thank our loyal shareholders for believing in our vision to mine both Ethereum and Bitcoin. We are sad to see the higher margin from mining Ethereum gone and now will be more easily compared to our Bitcoin mining peers. It was an extremely challenging quarter for the global digital asset ecosystem, where we saw the',\n",
       "  'By Gita Karunakaran, Benzinga Berlin, Germany --News Direct-- PRDT Finance The ability to accurately predict the future has often held stock market participants in thrall. Over the past years, with the emergence of decentralized finance (DeFi), and a thriving DeFi community, crypto prediction markets have been rising in popularity, with several new players entering the game. One of the primary attractions of decentralized prediction platforms has been their ability to operate without requiring a third party to administer trades and bets. PRDT Finance, the first fully decentralized cross-chain prediction platform, turned 1 last month, which is already an impressive achievement in the DeFi space. The developers of this young company believe it is a milestone worth celebrating, given all the great improvements and innovation they have brought to their platform through their hard work and dedication. PRDT Finance was initially launched to run on Binance Smart Chain (BSC) and Polygon blockchains. Since its inception, PRDT’s developers have fine-tuned their platform to offer many more options to traders and have extended their reach to more people by making it available on multiple blockchains. PRDT users may place bets on the value of an asset and earn in multiples based on their insightful market forecasts. This is facilitated through the use of smart contracts, which execute autonomously and without input from centralized authorities as soon as certain conditions are met. The predictions are run in a decentralized manner through the use of Binance application programming interfaces (APIs), the mechanism by which software components can communicate with each other, which pull the most up-to-date and accurate asset prices for all crypto markets. PRDT has collaborated with the Chainlink oracle network, which allows it to securely interact with external data feeds and provides off-chain information needed by the smart contracts to execute the underlying digital agreements. This enables greater security during predictions by preventing interference with the starting price, locked price or closing price of each round of predictions. The PRDT platform currently supports predictions on Bitcoin (CRYPTO: BTC), Binance Coin (CRYPTO: BNB), Ethereum (CRYPTO: ETH), Polygon (CRYPTO: MATIC) and more. The company has',\n",
       "  \"Ether (ETH) has turned deflationary for the first time since the token's parent blockchain Ethereum changed how it processes transactions nearly two months ago. Data from ultrasound.money shows the second-largest cryptocurrency's net issuance, or the annualized inflation rate, has dropped to 0.029%, indicating that the leading smart contract blockchain is now burning more ether than what's being minted. The negative inflation rate means ether's net supply has declined by 5,598 since Ethereum transitioned to a proof-of-stake (PoS) consensus mechanism of verifying transactions from a proof-of-work (PoW) mechanism on Sept. 15. Ether's supply would have increased by nearly 670,000 had Ethereum continued to use the PoW mechanism. The upgrade, dubbed Merge, put ether on the path to becoming a deflationary asset by replacing miners with validators as entities responsible for running the blockchain and causing a drastic reduction in the newly minted ETH. Ether's annualized inflation rate crashed from over 3.5% to nearly zero following the Merge. The deflationary milestone, however, remained elusive for nearly two months before finally being reached, with the recent increase in the Ethereum network activity prompting an uptick in the amount of ether burned. That's a sign that ether's prospects as a deflationary asset heavily depend on the degree of network usage. On Wednesday, more than 5,000 ETH was burned, the highest single-day tally since June, according to Etherscan. More than 13,000 ETH have been burned in the past three days alone. The Ethereum Improvement Proposal (EIP)-1559, implemented in August last year, introduced a mechanism to burn a portion of fees paid by users. The EIP is essentially tied the amount of ether burned with the network usage. The latest increase in network usage could be attributed to market volatility triggered by the collapse of the cryptocurrency exchange FTX. Millions of dollars worth of crypto funds have been moved on-chain ever since FTX's liquidity woes became public. On Thursday, FTX's select customers were allowed to withdraw funds through Ethereum. The positive change in ether's tokenomics could help the cryptocurrency outperform bitcoin and the wider market once the FTX-induced panic subsides. At press time, ether changed hands\",\n",
       "  'Smart contract platform Ethereum\\'s recent technological overhaul is beginning to have an intended bullish effect on its native token ether\\'s (ETH) price. ETH rose over 16% in the seven days to Oct. 30, its best weekly percentage price gain since mid-July, overshadowing bitcoin\\'s (BTC) 5% rise, CoinDesk data show. \"Both major coins are having their moment, but since people are still adjusting to ether\\'s recent tokenomics changes, momentum is still stronger there for now,\" Jordi Alexander, chief investment officer at proprietary trading firm Seleni Capital, said. On Sept. 15, Ethereum transitioned to a proof-of-stake (PoS) consensus mechanism from a proof-of-work (PoW) mechanism, replacing miners with validators, who explicitly lock capital in the form of ETH on the platform as entities responsible for confirming transactions. Since the switch, ether\\'s supply has increased by 1,300 tokens. The net-supply increase would have been more than 481,000 had the blockchain continued to use the PoW mechanism. Ether\\'s net issuance, also known as annualized inflation rate, has declined from 3.6% to nearly 0%, falling below bitcoin\\'s 1.7%, according to data sourced from ultrasound.money. Meanwhile, data from blockchain analytics firm IntoTheBlock shows ether\\'s net issuance has actually declined below zero. In other words, ether has turned deflationary – a coin with supply decreasing over time instead of increasing. That\\'s at a time when investors worldwide are facing a shortage of assets that could protect their money from rampant inflation. The ether-bitcoin ratio, measuring ether\\'s price in bitcoin terms, rose 10% last week, registering the biggest gain since July. The ratio\\'s uptrend could continue, according to prominent traders. \"Ether may continue to outperform bitcoin as ETH\\'s annual issuance continues to fall rapidly. Therefore, thanks to the transaction fee burn mechanism, any increase in on-chain activity should bring Ethereum firmly into deflationary issuance territory and may have a substantial outsized effect on [ether’s] price,\" Josh Olszweicz, head of research at digital asset fund manager Valkyrie Investments, told CoinDesk. Read More: Surging Popularity of Ethereum Staking Keeps Lid on Yields In August last year, Ethereum activated a mechanism to burn a portion of transaction fees paid in ETH by',\n",
       "  'After the shocking collapse of FTX, other centralized crypto exchanges are under the microscope—and Crypto.com customers are concerned after CEO Kris Marszalek acknowledged that his exchange accidentally sent 320,000 ETH, around $400 million at the time, to a public address registered at a competitor exchange.  Blockchain records on Etherscan show that on October 21, Crypto.com sent the sum, around 80% of its total ETH reserves, to rival exchange Gate.io on October 22—just before Gate.io provided “proof of reserves” to its users on October 28 as part of a new push for transparency after the FTX crisis.  Gate.io subsequently returned the slightly diminished sum of 285,000 ETH, around $456 million as a result of a minor ETH surge, on October 29. That was just in time for Crypto.com to release its own proof of reserves on November 12.  “It was supposed to be a move to a new cold storage address, but was sent to a whitelisted external exchange address,” Marszalek tweeted on Saturday. “We worked with [the] Gate team and the funds were subsequently returned to our cold storage. New process and features were implemented to prevent this from reoccurring.” Marszalek further insisted that the address was Crypto.com’s own corporate account at Gate. He added that all of the funds had since been returned and that Crypto.com’s dollar balance on Gate is in the “single-digit” millions.  Crypto.com Trading Volume Sinks 91% One Year After \\'Brave\\' Matt Damon Ad In a thread blasting the resulting speculation as “FUD,” Marszalek also shared a snapshot from Gate showing its reserves from October 19 without the Crypto.com funds. Gate also posted on its blog late on Saturday night a \"clarification\" about its \"assistance to Crypto.com to retrieve 320k ETH mistaken transfer.” Crypto.com and Gate.io did not immediately respond to requests from Decrypt for further comment. The baffling transaction comes days after one of the top five exchanges in the world suffered a catastrophic bank run and didn’t have the liquidity to cover, leading to the complete unraveling of Sam Bankman-Fried’s empire and reputation.  Like FTX, Crypto.com markets itself as'],\n",
       " 'FTX': ['This article first appeared in the Morning Brief. Get the Morning Brief sent directly to your inbox every Monday to Friday by 6:30 a.m. ET. Subscribe Monday, November 14, 2022 Today\\'s newsletter is by Brian Sozzi, an editor-at-large and anchor at Yahoo Finance. Follow Sozzi on Twitter @BrianSozzi and on LinkedIn. Read this and more market news on the go with Yahoo Finance App. Let\\'s look at the bright side of the FTX-driven crypto crash to kick off what will likely be another long week for the industry. There are probably two positives worth considering here. First, the crypto crash has not spread over into the stock market. The S&P 500 is up 5.9% in the past five trading sessions compared with a 19% drop for bitcoin. Why is this you ask? Simple. The rout is not as huge as the headlines suggest. \"We think\\xa0Bitcoin and ETH remain a too small part of the market to cause broader financial market contagion, with a total crypto market cap size of $890 billion vs $41 trillion for U.S. equities,\" Citigroup digital asset analyst Joseph Ayoub said in a note to clients. \"The FTX shortfall is still relatively small in comparison to other crypto events, such as Luna ($40 billion lost) or market cap losses in public tech names.\" So there\\'s that. And two, what has happened with FTX should ultimately set the groundwork for a more stable crypto market over time (hopefully). Maybe that means less booms and busts, which is a positive for investors. There are a couple reasons for that, such as regulators coming in next year with new guardrails and the washout removing froth (maybe fewer crypto events in the Bahamas with Lambos parked outside for the Gram) and bad actors (we\\'re looking at you, SBF). What we have witnessed in the past week is a flush out and it\\'s all good — even if there is pain to be had today. \"This should be a wake-up call that what you thought was worth something is actually not worth anything,\" said Mizuho analyst Dan Dolev on Yahoo Finance Live.',\n",
       "  'FTX may have more than 1 million creditors, a new court document in the crypto exchange\\'s bankruptcy case shows, ten times more than what the company said it had when it filed for Chapter 11 on Friday. \"As set forth in the Debtors\\' petitions, there are over one hundred thousand creditors in these Chapter 11 cases. In fact, there could be more than one million creditors in these Chapter 11 Cases,\" FTX legal counsel said in the document filed Tuesday. The revelation underscores concerns among analysts and industry watchers over how wide and far FTX\\'s troubles could spread in the crypto industry. \"This is a huge black mark for the industry,\" Devin Ryan, director of financial technology research with JMP Securities, told Yahoo Finance. \"And there\\'s still a heck of a lot of uncertainty in terms of where we go from here, where the money trail goes.\" Since the FTX saga began over the past week, bitcoin has sold off by more than 14% from $19,717 to $16,847, while the total market capitalization for all crypto assets has fallen by 12% to $852 million, according to Coinmarketcap. In January, FTX carried a $32 billion post-money valuation. Ten months later, the company saw its exchange token FTT, a crypto variation on corporate stock, plummet from a market capitalization of $3.5 billion to $598 million over the first two weeks of November, preceding its bankruptcy filing. Documents reviewed by the Financial Times showed the company has a massive gap between customer liabilities and assets within in the range of $9 billion. That\\'s made its equity investors such as BlackRock and Sequoia Capital along with numerous other industry players, trading firms, and employees the company\\'s creditors in Chapter 11. Unlike banks, crypto exchanges don\\'t normally back their customer assets one to one. FTX\\'s terms of service states to customers “none of the Digital Assets in your Account are the property of, or shall or may be loaned to, FTX Trading.” Since last week, at least 13 firms have revealed they have $4 million to over $100 million in funds stuck on the platform.',\n",
       "  'Microstrategy founder and bitcoin evangelist Michael Saylor had some strong words about fallen FTX founder and one-time billionaire Sam Bankman-Fried (SBF). \"I think this [crypto] crash accelerates regulatory intervention,\" Saylor said on Yahoo Finance Live (video above). \"I mean, in fact, in a sense, SBF is like the Jordan Belfort of the crypto era. Instead of \\'The Wolf of Wall Street,\\' they\\'ll make a movie called \\'The King of Crypto.\\'\" Belfort famously was found guilty of stock market manipulation in 1999 and spent 22 months in prison. He was then portrayed by Leonardo DiCaprio in the 2013 movie \"The Wolf of Wall Street.\" Bankman-Fried has given plenty of fodder to his haters within the past week, helping to trigger a crypto crisis that could turn out to be another movie-making event. Late last week, FTX filed for Chapter 11 bankruptcy protection following a failed takeover by rival Binance. Bankman-Fried resigned as CEO after engineering a liquidity hole of billions and allegedly using customer funds to make other bets in the crypto space. Bankman-Fried subsequently said that he will be working as an adviser to the firm during the leadership transition and will try to bring \"liquidity\" to the platform\\'s users. Bankman-Fried \"was using counterfeit money and stolen money to lobby against all of the virtues in the industry — against proof of work, against bitcoin,\" Saylor said. \"He was working to corrupt regulations and corrupt the political process. When you have actors that use corrupt counterfeit stolen money in order to undermine the industry, it\\'s not good for anybody. So yeah, I mean I think that people need to decipher this.\" The ensuing fallout has sent crypto markets into a spiral, with Bitcoin prices tanking 20% in the last week. \"It\\'s a black swan event,\" Wedbush Tech Analyst Dan Ives said on Yahoo Finance Live. \"It\\'s a cautionary tale for what you see in sectors, and unfortunately, many will feel the pain.\" Brian Sozzi is an editor-at-large and anchor at Yahoo Finance. Follow Sozzi on Twitter @BrianSozzi and on LinkedIn. Click here for the latest crypto news, updates, values, prices,',\n",
       "  'Cathie Wood’s investment management firm is among DeFi loyalists warning of the domino effect failed cryptocurrency exchange FTX may have on the industry. ARK Invest said Tuesday the downfall of Sam Bankman-Fried’s once-lauded company has dramatically impacted crypto’s reputation and may be a major setback in progress towards broader acceptance while ushering in overly restrictive regulatory action. “In our view, FTX’s insolvency is one of the most damaging events in crypto history,” ARK said in a newsletter authored by Director of Research Frank Downing and analyst Yassine Elmandjra. “It could delay institutional crypto adoption by years and perhaps give regulators license to take draconian measures.” ARK Invest is the fourth largest shareholder of Coinbase (COIN), with more than 7.7 million shares or 4.3% stake in the publicly-traded crypto exchange as of Sept. 30, according to Bloomberg data. The firm also doubled down on the position as turmoil in the crypto space unfolded last week. Coinbase said it had minimal exposure to FTX, but the extent of the contagion remains unclear. In any case, institutional investors have been warming up to the space over the past few years. A recent survey by Fidelity found that 74% of surveyed institutions reported plans to buy digital assets. A lack of legislation, however, has kept cryptoworld in a regulatory gray area. And now there is a concern that the FTX crisis may motivate federal watchdogs to overcompensate. “The implosion of FTX must be a wake up call for Congress and financial regulators to hold this industry and its executives accountable,” Senator Elizabeth Warren said in a tweet Friday, urging stronger rules and enforcement. “Too much of the crypto industry is smoke and mirrors.” ARK pointed to a response by Coinbase CEO Brian Armstrong to Warren’s call. \"The problem is that the SEC failed to create regulatory clarity here in the US, so many American investors (and 95% of trading activity) went offshore,\" Armstrong said on Twitter last week. Ripple effects are already showing across the space. BlockFi, a digital-asset lender that received a bailout from FTX earlier this year, suspended customer withdrawals. Voyager is',\n",
       "  \"The imploding cryptocurrency trading firm FTX is now short billions of dollars after experiencing the crypto equivalent of a bank run. The exchange, formerly one of the world's largest, sought bankruptcy protection last week, and its CEO and founder resigned. Hours later, the trading firm said there had been “unauthorized access” and that funds had disappeared. Analysts say hundreds of millions of dollars may have vanished. The unraveling of the once-giant exchange is sending shockwaves through the industry. Here's a look at the company's collapse so far: WHY DID FTX GO BANKRUPT? Customers fled the exchange over fears about whether FTX had sufficient capital, and it agreed to sell itself to rival crypto exchange Binance. But the deal fell through while Binance’s due diligence on FTX’s balance sheet was still pending. FTX had valued its assets between $10 billion to $50 billion, and listed more than 130 affiliated companies around the world, according to its bankruptcy filing. FTX and dozens of affiliated companies — including founder Sam Bankman-Fried's hedge fund, Alameda Research — filed the bankruptcy petition in Delaware on Friday. The week’s developments marked a shocking turn of events for Bankman-Fried, who was hailed as somewhat of a savior earlier this year when he helped shore up a number of cryptocurrency companies that ran into financial trouble. He was recently estimated to be worth $23 billion and has been a prominent political donor to Democrats. WAS IT HACKED, TOO? FTX confirmed Saturday there had been unauthorized access to its accounts, hours after the company filed for Chapter 11 bankruptcy protection. A debate formed on social media about whether the exchange was hacked or a company insider had stolen funds — a possibility that cryptocurrency analysts couldn’t rule out. Exactly how much money is involved is unclear, but analytics firm Elliptic estimated Saturday that $477 million was missing from the exchange. FTX's new CEO John Ray III said it was switching off the ability to trade or withdraw funds and taking steps to secure customers’ assets. IS MY BITCOIN SAFE? People who own bitcoin should be OK if they keep\",\n",
       "  'Crypto asset manager Ikigai is the latest firm to reveal it held a majority of its funds with FTX on Monday, while troubled lender BlockFi has engaged Berkeley Research Group. “We had a large majority of the hedge fund’s total assets on FTX. By the time we went to withdraw Monday [morning], we got very little out,\" Ikigai Chief Investment Officer Travis Kling said over Twitter. \"We’re now stuck alongside everyone else.\" Kling added in his announcement that the hedge fund would also make a decision about what to do with its venture fund, which was unaffected by FTX and raised $30 million from existing investors in May. The venture fund\\'s uncertain future underscores the trust issues many crypto firms are facing in the wake of FTX’s massive balance sheet shortfall and bankruptcy. “It was entirely my fault and not anyone else’s,\" Kling said on Twitter. \"I lost my investors’ money after they put faith in me to manage risk and I am truly sorry for that. I have publicly endorsed FTX many times and I am truly sorry for that. I was wrong.\" Ikigai has did not respond to Yahoo Finance’s request for further comment by press time. Similar to Ikigai, numerous crypto firms are publicly declaring how much in assets — if any — they had on FTX’s platform prior to its bankruptcy filing last Friday. The list includes Genesis Trading, CoinShares, Galaxy Digital, Wintermute, Crypto.com, Matrixport, and hedge fund Galois Capital. While not all have declared the figure they will try to reclaim in bankruptcy, it has ranged anywhere from $4 to $175 million. Crypto lender BlockFi, which was bailed out of its financial distress this summer by FTX with a $400 million line of credit, also provided a public update on Monday. \"The rumors that a majority of BlockFi assets are custodied at FTX are false. That said, we do have significant exposure to FTX and associated corporate entities that encompasses obligations owed to us by Alameda, assets held at FTX.com, and undrawn amounts from our credit line with FTX.US,\" the company said. The update follows',\n",
       "  'Thank you for your patience. Our engineers are working quickly to resolve the issue.',\n",
       "  'NEW YORK (AP) — Collapsed cryptocurrency trading firm FTX confirmed there was “unauthorized access” to its accounts, hours after the company filed for Chapter 11 bankruptcy protection Friday. The embattled company’s new CEO John Ray III said Saturday that FTX is switching off the ability to trade or withdraw funds and taking steps to secure customers’ assets, according to a tweet by FTX’s general counsel Ryne Miller. FTX is also coordinating with law enforcement and regulators, the company said. Exactly how much money is involved is unclear, but analytics firm Elliptic estimated Saturday that $477 million was missing from the exchange. Another $186 million was moved out of FTX’s accounts, but that may have been FTX moving assets to storage, said Elliptic’s co-founder and chief scientist Tom Robinson. A debate formed on social media about whether the exchange was hacked or a company insider had stolen funds, a possibility that cryptocurrency analysts couldn’t rule out. Until recently, FTX was one of the world’s largest cryptocurrency exchanges. It was already short billions of dollars when it sought bankruptcy protection Friday and its former CEO and founder, Sam Bankman-Fried, resigned. The company had valued its assets between $10 billion to $50 billion, and listed more than 130 affiliated companies around the world, according to its bankruptcy filing. The unraveling of the once-giant exchange is sending shockwaves through the industry, with companies that backed FTX writing down investments and the prices of bitcoin and other digital currencies falling. Politicians and regulators are calling for stricter oversight of the unwieldy industry. Experts say the saga is still unfolding. “We’ll have to wait and see what the fallout is, but I think we are going to see more dominoes falling and an awful lot of people stand to lose their money and their savings,” said Frances Coppola, an independent financial and economic commentator. “And that is just tragic, really.” The timing and the extent of access that the assumed hacker appeared to achieve, siphoning money from multiple parts of the company, led Coppola and other analysts to theorize that it could have been an inside',\n",
       "  'Sam Bankman-Fried has posted a series of cryptic tweets spelling out: \"What happened.\" His crypto exchange FTX has collapsed, tanking his fortune by around 94%. \"This is all as I remember it, but my memory might be faulty in parts,\" Bankman-Fried tweeted Tuesday. Sam Bankman-Fried said he was \"improvising\" when he posted a series of cryptic tweets across Monday and Tuesday, just days after his crypto exchange FTX collapsed. The tweets tease that he\\'s about to explain exactly what went down at the company. The tweets spelled out \"What happened,\" with a follow-up tweet saying: \"Not legal advice. Not financial advice. This is all as I remember it, but my memory might be faulty in parts.\" The tweets were spaced out with some gaps of multiple hours. \"I\\'ll get to what happened,\" reads the most recent tweet, posted on Tuesday morning. \"But for now, let\\'s talk about where we are today.\" Bankman-Fried had tweeted on Friday that he planned to share a thorough account of what happened at FTX. \"I\\'m piecing together all of the details, but I was shocked to see things unravel the way they did earlier this week,\" he tweeted. \"I will, soon, write up a more complete post on the play by play, but I want to make sure that I get it right when I do.\" Bankman-Fried has lost almost all his fortune over the past week and the two companies he cofounded, trading firm Alameda Research, and cryptocurrency exchange FTX, both filed for bankruptcy. Bankman-Fried told The New York Times on Sunday that since FTX had collapsed, he\\'d been coping better than expected. \"You would\\'ve thought that I\\'d be getting no sleep right now, and instead I\\'m getting some,\" he told the publication. \"It could be worse.\" He added that he\\'d continued to play the video game Storybook Brawl, though not as much as usual. He told the publication that the game \"clears my mind.\" At the time of the interview with The Times, Bankman-Fried had only tweeted the first two parts of his cryptic thread – \"What\" and \"H.\" He told the publication',\n",
       "  'Thank you for your patience. Our engineers are working quickly to resolve the issue.'],\n",
       " 'BTC': ['This article first appeared in the Morning Brief. Get the Morning Brief sent directly to your inbox every Monday to Friday by 6:30 a.m. ET. Subscribe Monday, November 14, 2022 Today\\'s newsletter is by Brian Sozzi, an editor-at-large and anchor at Yahoo Finance. Follow Sozzi on Twitter @BrianSozzi and on LinkedIn. Read this and more market news on the go with Yahoo Finance App. Let\\'s look at the bright side of the FTX-driven crypto crash to kick off what will likely be another long week for the industry. There are probably two positives worth considering here. First, the crypto crash has not spread over into the stock market. The S&P 500 is up 5.9% in the past five trading sessions compared with a 19% drop for bitcoin. Why is this you ask? Simple. The rout is not as huge as the headlines suggest. \"We think\\xa0Bitcoin and ETH remain a too small part of the market to cause broader financial market contagion, with a total crypto market cap size of $890 billion vs $41 trillion for U.S. equities,\" Citigroup digital asset analyst Joseph Ayoub said in a note to clients. \"The FTX shortfall is still relatively small in comparison to other crypto events, such as Luna ($40 billion lost) or market cap losses in public tech names.\" So there\\'s that. And two, what has happened with FTX should ultimately set the groundwork for a more stable crypto market over time (hopefully). Maybe that means less booms and busts, which is a positive for investors. There are a couple reasons for that, such as regulators coming in next year with new guardrails and the washout removing froth (maybe fewer crypto events in the Bahamas with Lambos parked outside for the Gram) and bad actors (we\\'re looking at you, SBF). What we have witnessed in the past week is a flush out and it\\'s all good — even if there is pain to be had today. \"This should be a wake-up call that what you thought was worth something is actually not worth anything,\" said Mizuho analyst Dan Dolev on Yahoo Finance Live.',\n",
       "  \"Fourteen years ago on Halloween, the idea of bitcoin was hatched and since then, the world of cryptocurrency has taken off, most recently experiencing a meteoric rise and fall in the last year. To mark the white paper that started it all, Yahoo Finance is kicking off its first episode in a series on crypto that hits the basics of what this newer technology is and how its assets have swept into finance. Whether you’re a staunch believer like Jack Dorsey and sometimes Elon Musk or longtime skeptic such as Warren Buffett and JPMorgan Chairman and CEO Jamie Dimon who both view crypto as delusional as the 17th century Dutch Tulip craze, it's important to know how it started, what cryptocurrency is, how it diffs from other assets, and of course, the technology behind it all — blockchain. Short for cryptocurrency, “crypto” refers to a group of digital currencies and surrounding assets that are secured through encryption thanks to a network of computers all running the same software. Thought another way, a blockchain is a distributed ledger for data and a cryptocurrency acts as its unit of account. Following several iterations, the idea for “Bitcoin” the blockchain and its unit of account “bitcoin” was shared for the first time on the internet on October 31, 2008, by the anonymous developer(s) called Satoshi Nakamoto. Nakamoto called the idea “a new electronic cash system that’s peer-to-peer, with no trusted third party.” That meant people could transact bitcoin between each other without a bank. It also meant people could take part in commerce with more anonymity. The largest and first true cryptocurrency as we know it today, Bitcoin proved to be just the beginning of what’s become a fast-moving, buzzy, and often perplexing area of finance. As a means of payment, cryptocurrencies haven’t yet picked up mainstream adoption though they have been used to pay for luxury goods such as cars, yachts, watches, and real estate by the crypto rich and people living in regions where the local currency faces hyperinflation and there's low access to dollars. Several major brands including AMC, Home\",\n",
       "  'It\\'s been a tough year for Bitcoin and its backers. And even back in 2018, the Oracle of Omaha predicted that it and other cryptocurrencies were headed for trouble. \"They will come to a very bad ending,\" Warren Buffett told CNBC at the time. After hitting an all-time peak of around $69,000 per unit on November 10, 2021, the world\\'s leading digital currency has since erased roughly 76% of its value, sitting at just under $16,000 as of 4:30 pm on Wednesday. Holdout investors who once thought they’d missed an opportunity of a lifetime are now sighing with relief; meanwhile, those who bought in at the peak are trying not to think about their losses. What would world\\'s most famous investor say to those who might be thinking of firing up their investment apps and buying Bitcoin at a bargain price? “If you ... owned all of the bitcoin in the world and you offered it to me for $25, I wouldn’t take it,” Buffett told CNBC earlier this year. You could be the landlord of Walmart, Whole Foods and Kroger (and collect fat grocery store-anchored income on a quarterly basis) Want to invest your spare change but don\\'t know where to start? There\\'s an app for that Over 65% of Americans don\\'t shop around for a better car insurance deal — and that could be costing you $500 a month Other than Bitcoin\\'s disappointing track record, here are three more reasons Buffett won’t go near it. The billionaire investor doesn’t like Bitcoin because he considers it an unproductive asset. Buffett has a well-known preference for stocks of corporations whose value — and cash flow — come from producing things. But cryptocurrencies don’t have real value, Buffett said in a CNBC interview in 2020. “They don\\'t reproduce, they can\\'t mail you a check, they can\\'t do anything, and what you hope is that somebody else comes along and pays you more money for them later on, but then that person\\'s got the problem.” Though Bitcoin is intended to provide real value as a payment system, that use is still pretty',\n",
       "  'Bitcoin investors have pulled tokens from centralized exchanges at a record rate since the collapse of FTX, says Glassnode. The blockchain analytics firm said bitcoin outflows to self-custody hit a rate of 106,000 bitcoin per month. \"The failure of FTX has created a very distinct change in #Bitcoin holder behaviour across all cohorts.\" Bitcoin investors have pulled their coins from centralized exchanges at a historical rate with the implosion of crypto exchange FTX, according to blockchain analytics firm Glassnode. The withdrawal of coins to self-custody wallets hit a rate of 106,000 bitcoin per month, Glassnode said in a Twitter post\\xa0 Sunday. The rate was similar to withdrawal patterns logged in April 2020, November 2020, and June and July of this year. \"This has resulted in positive balance changes across all wallet cohorts, from shrimp to whales,\" Glassnode said, referring to the range of crypto holders. \"The failure of FTX has created a very distinct change in #Bitcoin holder behaviour across all cohorts.\" The moves suggest crypto investors are reconsidering how to manage their digital assets now that the once third-largest crypto exchange in the world has faltered and the value of the fortune built up by FTX\\'s founder Sam Bankman-Fried now been wiped to $1. Whales representing wallet addresses that hold more than 1,000 bitcoin had received at least 3,600 bitcoin since November 6 and so-called shrimps holding less 1 bitcoin saw wallets taking in 33,700 bitcoins, said Glassnode. It was on November 6 that Binance CEO Changpeng Zhao told his 7.6 million followers on Twitter that his crypto exchange Binance was liquidating any remaining holdings of, FTT, FTX\\'s native token, on its books \"due to recent revelations that have came to light.\" Earlier this month, CoinDesk reported Alameda Research, FTX\\'s trading arm, relied heavily on illiquid cryptocurrencies the company carried on its balance sheet. Binance later walked away from a bailout for FTX.\\xa0FTX on Friday filed for bankruptcy protection after the company failed to plug a shortfall of up to $8 billion in a liquidity crunch. \"Self custody is a fundamental human right … Just make sure you do',\n",
       "  'As the fallout from the collapse of Sam Bankman-Fried\\'s blockchain empire FTX continues, investors are wary about the battered cryptocurrency market.\\xa0 The crypto industry has already seen the closure of major players, along with the Bitcoin (CRYPTO: BTC) bubble bursting. \"Rich Dad, Poor Dad\"\\xa0author\\xa0Robert Kiyosaki\\xa0has dropped words of caution about Bitcoin\\'s performance in the present market scenario. In a recent tweet, Kiyosaki says he is not looking at flipping Bitcoin by market cap as he is a long-term investor of BTC rather than a trader. He believes a new bottom is coming for Bitcoin and could be as low as $10,000. He says if that happens, he will be excited about it rather than nervous. Last month, Kiyosaki warned that the U.S. is heading\\xa0toward an impending economic collapse. He said in a tweet that amid a financial meltdown, investors could keep their capital intact by loading up on gold, silver, and Bitcoin. Also Read:\\xa0The Wolf Of Wall Street Says He Was Wrong About Bitcoin: \\'I Really Hated Crypto\\' Earlier, Kiyosaki said he is bullish on Bitcoin because state-sponsored pension funds are starting to invest in BTC. \"Why buy gold, silver, Bitcoin? Bank of England pivot means to buy more GSBC. When pensions nearly collapsed, it exposed Central Banks could not fix...INFLATION. Pension have always invested in G& S. Pension funds now investing in Bitcoin. They know Fake $, stocks & bonds are toast,\" he said in a tweet. During a May interview, Kiyosaki said that rising inflation, shortfalls in social security, and healthcare funding are the key factors influencing the economy. He warned that the downturn is going to\\xa0hammer a massive number of baby boomers. At the time of writing, Bitcoin was trading\\xa0at $16,622. A drop of\\xa021% in the last seven days when the FTX fiasco unfolded.\\xa0 Photo: Created with an image from\\xa0Gage Skidmore via\\xa0Wikimedia See more from Benzinga Bahamas Regulators Interview FTX\\'s Sam Bankman-Fried, Say They Didn\\'t Authorize Prioritizing Local Withdrawals Musk Says He Had Conversation With Sam Bankman On Twitter Deal: \\'My Bulls**t Meter Was Redlining\\' Don\\'t miss real-time alerts on your stocks - join Benzinga Pro for',\n",
       "  'Bitcoin prices dropped below $16,000 Wednesday afternoon after Binance, the largest crypto exchange, backed out of its emergency deal to acquire rival FTX. \"As a result of corporate due diligence, as well as the latest news reports regarding mishandled customer funds and alleged US agency investigations, we have decided that we will not pursue the potential acquisition of http://FTX.com,\" Binance said in a statement. Bitcoin plunged to $15,985, the lowest price point the largest cryptocurrency has seen since November 2020, according to crypto indexing platform CF Benchmark. It\\'s down 12% for the last 24 hours and 20% for the last seven days. The new development adds to the mounting concerns over FTX, its equity investors and investments as well the implications its troubles could have for other crypto firms across the industry. \"Every time a major player in an industry fails, retail consumers will suffer,\" Binance said in its statement. \"We have seen over the last several years that the crypto ecosystem is becoming more resilient, and we believe in time that outliers that misuse user funds will be weeded out by the free market.\" Even before Binance decided to walk, there were signs of trouble. A report Wednesday from Semafor — which is backed by FTX Founder and CEO Sam Bankman-Fried —said most of FTX\\'s legal and compliance staff quit Tuesday evening, while a Coindesk report Wednesday morning, citing unnamed sources, raised doubts the deal would go through. The Securities and Exchange Commission (SEC) is also reportedly expanding its investigation into the cryptocurrency platform\\'s U.S. subsidiary, according to the Wall Street Journal. \"Clearly, something was off because there was a large hole in FTX\\'s balance sheet where they were unable to meet customer deposits,\" Sean Farrell, head of digital asset strategy with Fundstrat, told Yahoo Finance before the news of the broken deal came out. \"It\\'s likely that it came from co-mingling customer deposits with trading practices of Alameda,\" which is both majority owned and founded by Bankman-Fried and FTX\\'s market maker. Farrell added the gap between liabilities is likely above $2 billion while as much as $6 billion',\n",
       "  'This news release constitutes a “designated news release” for the purposes of the Company’s prospectus supplement dated March 4, 2022 to its short form base shelf prospectus dated February 23, 2022. TORONTO, Nov. 15, 2022 (GLOBE NEWSWIRE) -- Digihost Technology Inc. (“Digihost” or the “Company”) (Nasdaq: DGHI; TSXV: DGHI), an innovative U.S. based Bitcoin (“BTC”) mining company, announces unaudited financial results for the third quarter ended September 30, 2022 (all amounts in U.S. dollars, unless otherwise indicated). Michel Amar, CEO of the Company commented, “Digihost is pleased to present its third quarter financial results, highlighted by a 52% increase in Bitcoins mined during Q3 2022 compared to Q3 of 2021. The Company continues to be committed to conservatively managing its balance sheet and effectively allocating its capital resources in today’s challenging economic environment. We are proud to be one of the rare cryptocurrency mining companies with positive net income and EBITDA* year-to-date. Digihost also remains debt free, with the exception of approximately $1 million of mortgage debt secured by our Alabama facility, providing us the opportunity to make strategic investments as opportunities arise with the underlying goal of securing access to clean and renewable energy sources.” Comparative Financial Highlights for the Nine Month Period Ended September 30, 2022 Revenue from digital currency mining of $18.5 million reported for the nine-month period ended September 30, 2022, compared to $15.4 million for the nine-month period ended September 30, 2021, an increase of 20%; For the nine-month period ended September 30, 2022, the Company mined a total of 641.64 BTC compared to 425.12 BTC for the nine-month period ended September 30, 2021, an increase of 51%; Operating income for the nine-month period ended September 30, 2022 of $12.8 million, compared to $6.8 million for the nine-month period ended September 30, 2021, an increase of 87%; Net income of $14.1 million for the nine-month period ended September 30, 2022, compared to net income of $6.5 million over the same period in 2021, an increase of 117%; EBITDA* of $19.6 million for the nine-month period ended September 30, 2022, compared to $9.2 million over the',\n",
       "  'The bitcoin market has recently awakened from a prolonged slumber, putting bears in the driver\\'s seat. That\\'s the message from experts studying chart patterns, who now see a high chance of bitcoin sliding to $14,000 or below. The top cryptocurrency fell 22% last week, hitting a two-year low of $15,600 as FTX\\'s collapse dented investor confidence. The decline marked a downside break of months of horizontal or sideways trading above $18,000, opening doors for a notable sell-off. \"From a technical perspective, bitcoin has now broken below $18,000, which was an area of support in recent weeks. The next levels to watch are $13,500, the 2019 high, and $12,500 (the 3Q20 high),\" strategists at Morgan Stanley wrote in a note to clients on Friday. Range breakdowns or breakouts usually bring a notable decline or rally. According to technical analysis theory, an asset builds potential energy during consolidation and this energy is unleashed in the direction in which the range is eventually breached. The longer the consolidation, the bigger the energy store and post-breakout/breakdown move. Seasoned traders, therefore, avoid trading against the range breakdown or breakout. \"Firstly, think of the consolidation range like a spring, coiled up over time and full of potential energy. Each successful bounce off of support and rejection from resistance adds more potential energy,\" analysts at Delphi Digital said in a note sent to subscribers on Friday. \"When prices do eventually break from the range, the impulse move can be extremely strong, much like the initial unwind of a coiled spring.\" Technical patterns can and often do fail. However, bitcoin\\'s latest range breakdown is likely to bring more pain, as adverse macroeconomic conditions and FTX\\'s collapse are likely to keep investor risk appetite under pressure. \"This breakdown has been accompanied by one of the worst crypto catalysts to date, weighing on investor sentiment and asset prices. Combine the native crypto catalyst in the FTX-Alameda blowup with a continued bleak macroeconomic backdrop that has not materially changed, and continuation to the downside is the path of least resistance at this point as opposed to a reversal,\" Delphi\\'s team noted,',\n",
       "  '(Bloomberg) -- Problems are multiplying for the world’s biggest crypto fund as chaos engulfs the industry in the wake of exchange FTX’s shock bankruptcy filing. Most Read from Bloomberg China Plans Property Rescue in Latest Surprise Policy Shift Biden, Xi Chart Path to Warmer Ties With Blinken China Visit FTX’s Balance Sheet Was Bad US Stocks, Bonds Drop as Fed Signals Further Hikes: Markets Wrap Fall of the World’s Hottest Stock Cost Sea Founders $32 Billion The $11.4 billion Grayscale Bitcoin Trust (ticker GBTC) has plunged more than 74% this year, outpacing the cryptocurrency’s 64% decline. That gap has widened dramatically over the past week, dragging the price of GBTC to an unprecedented 42% discount to the value of the Bitcoin it holds, according to Bloomberg data. The dislocation is rooted in the fact that despite Grayscale’s best efforts, US regulators have repeatedly denied applications to convert GBTC into a physically-backed exchange-traded fund -- a structure that the Securities and Exchange Commission has yet to approve, despite allowing the futures-backed ProShares Bitcoin Strategy ETF (BITO) to launch a year ago. In its structure as a trust, GBTC isn’t able to redeem shares to keep pace with shifting demand, exacerbating its net-asset value discount while the derivatives-backed ETFs stay in lockstep with theirs. “We have a broken product in GBTC that the SEC allows any retail investor to get their hands on,” said Nate Geraci, president of advisory firm The ETF Store. “BITO sticking to its NAV is yet another demonstration of the superiority of the ETF structure and adds to the growing list of reasons why a spot Bitcoin ETF should exist.” BITO has dropped 65% so far in 2022, similar to Bitcoin’s slide. Though fears about BITO’s roll costs -- the expense of having to continually roll forward futures contracts as they expire -- produced much hand-wringing before its debut about the fund’s potential tracking error, those concerns have been largely unfounded. Meanwhile, GBTC’s discount is one of the primary reason why Grayscale has pushed for the trust’s conversion into an ETF. The SEC’s denial in June led the',\n",
       "  '  Warren Buffett has repeatedly criticized bitcoin and other cryptocurrencies as risky and worthless. \"I can say almost with certainty that they will come to a bad ending,\" the legendary investor said. Bitcoin skyrocketed between the start of 2020 and November 2021, but it has plunged 65% in 2022. Warren Buffett has been a vocal critic of bitcoin in recent years, repeatedly dismissing the cryptocurrency as worthless and a risky, speculative asset. Crypto fans brushed off the billionaire investor and Berkshire Hathaway CEO\\'s warnings, driving bitcoin\\'s price up from around $7,000 at the start of 2020 to over $64,000 in November 2021. However, the currency has plunged 65% to below $17,000 since the beginning of 2022. 1. \"Cryptocurrencies basically have no value and they don\\'t produce anything. They don\\'t reproduce, they can\\'t mail you a check, they can\\'t do anything, and what you hope is that somebody else comes along and pays you more money for them later on, but then that person\\'s got the problem. In terms of value: zero.\" — CNBC, February 2020 2. \"It\\'s ingenious and blockchain is important but bitcoin has no unique value at all, it doesn\\'t produce anything. You can stare at it all day and no little bitcoins come our or anything like that. It\\'s a delusion basically.\" — CNBC, February 2019 3. \"If you and I buy various cryptocurrencies, they\\'re not going to multiply. There are not going to be a bunch of rabbits sitting there in front of us. They\\'re just gonna sit there. And I gotta hope next time you get more excited after I\\'ve bought if from you and then I\\'ll get more excited and buy it from you. We could sit in the house by ourselves and we could keep running up the price between us. But at the end of the time there\\'s one bitcoin sitting there and now we\\'ve gotta find somebody else. They come to an end.\" — CNBC, May 2018 4. \"In terms of cryptocurrencies generally, I can say almost with certainty that they will come to a bad ending. If I could']}"
      ]
     },
     "execution_count": 28,
     "metadata": {},
     "output_type": "execute_result"
    }
   ],
   "source": [
    "articles = {ticker:scrape_and_process(cleaned_urls[ticker]) for ticker in monitored_tickers}\n",
    "articles"
   ]
  },
  {
   "cell_type": "markdown",
   "id": "8012afb7",
   "metadata": {},
   "source": [
    "### Summarizing all Articles"
   ]
  },
  {
   "cell_type": "code",
   "execution_count": 29,
   "id": "c465dd2a",
   "metadata": {},
   "outputs": [],
   "source": [
    "def summarize(articles):\n",
    "    summaries = []\n",
    "    for article in articles:\n",
    "        input_ids = tokenizer.encode(article, return_tensors='pt')\n",
    "        output = model.generate(input_ids, max_length=55, num_beams=5, early_stopping=True)\n",
    "        summary = tokenizer.decode(output[0], skip_special_tokens=True)\n",
    "        summaries.append(summary)\n",
    "    return summaries"
   ]
  },
  {
   "cell_type": "code",
   "execution_count": 31,
   "id": "581961bb",
   "metadata": {
    "scrolled": true
   },
   "outputs": [
    {
     "data": {
      "text/plain": [
       "{'ETH': ['Uniswap overtakes Coinbase as second-largest platform for ethereum trades. Decentralised cryptocurrency exchanges have been in the news recently',\n",
       "  'Security firm Arkham finds $339 million in Ether, DAI, Maker’s stablecoin. Outflows at bankrupt FTX were caused by insider attack',\n",
       "  'Fund held more than $500 million in crypto as of Oct. 1. Ether has fallen more than 8% in the past two weeks',\n",
       "  'Ether Capital has no exposure to FTX or its affiliated businesses. Figment has confirmed there will be no direct or immediate impact to its business',\n",
       "  'We are aware of the issue and are working to resolve it.',\n",
       "  'Revenue for the second quarter was $29.6 million, up $44.2 million over previous quarter.',\n",
       "  'PRDT Finance is the first fully cross-chain prediction platform. The platform supports Bitcoin, Ethereum, BNB, Polygon',\n",
       "  \"Ethereum network usage has increased in recent days. Ether's supply has declined by 5,598 since the Merge upgrade\",\n",
       "  'Ether rose over 16% last week, overshadowing bitcoin’s 5% gain. Supply has increased since the platform switched to PoS mechanism',\n",
       "  'Crypto.com sent $400 million to rival Gate.io. CEO Marszalek: ‘It was supposed to be a move to a new cold storage address.’'],\n",
       " 'FTX': ['FTX-driven crypto rout is a wake-up call for investors. S&P 500 is up 5.9% in past five trading sessions',\n",
       "  'FTX may have more than 1 million creditors, court document shows. Bitcoin has fallen by more than 14% since FTX filed for bankruptcy',\n",
       "  'Saylor compares Bankman-Fried to Jordan Belfort. FTX filed for Chapter 11 bankruptcy following a failed takeover',\n",
       "  'FTX is ‘one of the most damaging events in crypto history,’ ARK says. Regulators should ‘take draconian measures,’ firm says',\n",
       "  'FTX, once one of the world’s largest, filed for bankruptcy. Analysts say hundreds of millions of dollars may have vanished',\n",
       "  'Ikigai says it had a ‘large majority’ of its assets on FTX. Crypto lenders BlockFi, Berkeley Research also provide updates',\n",
       "  'We are aware of the issue and are working to resolve it.',\n",
       "  'FTX says ‘unauthorized access’ to its accounts. Analysts say hundreds of millions of dollars are missing',\n",
       "  'FTX has collapsed, tanking his fortune by 94%. Bankman-Fried told The New York Times that playing video game cleared his mind',\n",
       "  'We are aware of the issue and are working to resolve it.'],\n",
       " 'BTC': ['FTX-driven crypto rout is a wake-up call for investors. S&P 500 is up 5.9% in past five trading sessions',\n",
       "  'Cryptocurrencies have taken off, most recently experiencing a meteoric rise and fall.',\n",
       "  'Billionaire investor doesn’t like the asset, says it’s unproductive. Bitcoin has lost more than half its value since hitting peak',\n",
       "  'FTX, once third-largest crypto exchange, filed for bankruptcy. Whales, shrimps are among crypto holders to pull tokens: Glassnode',\n",
       "  'Robert Shiller says new bottom for Bitcoin could be as low as $10,000.',\n",
       "  'Largest crypto exchange had been in talks to buy rival FTX. FTX has been struggling with a $2 billion gap',\n",
       "  'Revenue from digital currency mining of $18.5 million for nine-month period ended September 30, 2022.',\n",
       "  'Analysts at Morgan Stanley see $14,000 as next level to watch',\n",
       "  'Grayscale’s GBTC has a 42% discount to Bitcoin’s value. Regulators have repeatedly denied requests to convert GBTC into an ETF',\n",
       "  'Buffett has been a vocal critic of the cryptocurrency. Bitcoin has plunged 65% since November 2021']}"
      ]
     },
     "execution_count": 31,
     "metadata": {},
     "output_type": "execute_result"
    }
   ],
   "source": [
    "summaries = {ticker:summarize(articles[ticker]) for ticker in monitored_tickers}\n",
    "summaries"
   ]
  },
  {
   "cell_type": "code",
   "execution_count": 32,
   "id": "4689d787",
   "metadata": {
    "scrolled": true
   },
   "outputs": [
    {
     "data": {
      "text/plain": [
       "['FTX-driven crypto rout is a wake-up call for investors. S&P 500 is up 5.9% in past five trading sessions',\n",
       " 'FTX may have more than 1 million creditors, court document shows. Bitcoin has fallen by more than 14% since FTX filed for bankruptcy',\n",
       " 'Saylor compares Bankman-Fried to Jordan Belfort. FTX filed for Chapter 11 bankruptcy following a failed takeover',\n",
       " 'FTX is ‘one of the most damaging events in crypto history,’ ARK says. Regulators should ‘take draconian measures,’ firm says',\n",
       " 'FTX, once one of the world’s largest, filed for bankruptcy. Analysts say hundreds of millions of dollars may have vanished',\n",
       " 'Ikigai says it had a ‘large majority’ of its assets on FTX. Crypto lenders BlockFi, Berkeley Research also provide updates',\n",
       " 'We are aware of the issue and are working to resolve it.',\n",
       " 'FTX says ‘unauthorized access’ to its accounts. Analysts say hundreds of millions of dollars are missing',\n",
       " 'FTX has collapsed, tanking his fortune by 94%. Bankman-Fried told The New York Times that playing video game cleared his mind',\n",
       " 'We are aware of the issue and are working to resolve it.']"
      ]
     },
     "execution_count": 32,
     "metadata": {},
     "output_type": "execute_result"
    }
   ],
   "source": [
    "summaries['FTX']"
   ]
  },
  {
   "cell_type": "markdown",
   "id": "537d4663",
   "metadata": {},
   "source": [
    "# Sentiment Analysis of Articles"
   ]
  },
  {
   "cell_type": "code",
   "execution_count": 34,
   "id": "da2253d2",
   "metadata": {},
   "outputs": [
    {
     "name": "stderr",
     "output_type": "stream",
     "text": [
      "No model was supplied, defaulted to distilbert-base-uncased-finetuned-sst-2-english and revision af0f99b (https://huggingface.co/distilbert-base-uncased-finetuned-sst-2-english).\n",
      "Using a pipeline without specifying a model name and revision in production is not recommended.\n"
     ]
    },
    {
     "data": {
      "application/vnd.jupyter.widget-view+json": {
       "model_id": "dd780853425b4b43aee0268078a203db",
       "version_major": 2,
       "version_minor": 0
      },
      "text/plain": [
       "Downloading:   0%|          | 0.00/629 [00:00<?, ?B/s]"
      ]
     },
     "metadata": {},
     "output_type": "display_data"
    },
    {
     "data": {
      "application/vnd.jupyter.widget-view+json": {
       "model_id": "d7d1a01f69c44f20a19e19d4ec41e3a1",
       "version_major": 2,
       "version_minor": 0
      },
      "text/plain": [
       "Downloading:   0%|          | 0.00/268M [00:00<?, ?B/s]"
      ]
     },
     "metadata": {},
     "output_type": "display_data"
    },
    {
     "data": {
      "application/vnd.jupyter.widget-view+json": {
       "model_id": "600b7d714f584584893539c7651aea6b",
       "version_major": 2,
       "version_minor": 0
      },
      "text/plain": [
       "Downloading:   0%|          | 0.00/48.0 [00:00<?, ?B/s]"
      ]
     },
     "metadata": {},
     "output_type": "display_data"
    },
    {
     "data": {
      "application/vnd.jupyter.widget-view+json": {
       "model_id": "90730abe8ebc4db0b3a54aee7ee101aa",
       "version_major": 2,
       "version_minor": 0
      },
      "text/plain": [
       "Downloading:   0%|          | 0.00/232k [00:00<?, ?B/s]"
      ]
     },
     "metadata": {},
     "output_type": "display_data"
    }
   ],
   "source": [
    "sentiment = pipeline('sentiment-analysis')"
   ]
  },
  {
   "cell_type": "code",
   "execution_count": 35,
   "id": "0a6a1158",
   "metadata": {},
   "outputs": [
    {
     "data": {
      "text/plain": [
       "[{'label': 'NEGATIVE', 'score': 0.9955804944038391},\n",
       " {'label': 'NEGATIVE', 'score': 0.9996664524078369},\n",
       " {'label': 'NEGATIVE', 'score': 0.9976012110710144},\n",
       " {'label': 'NEGATIVE', 'score': 0.9986016154289246},\n",
       " {'label': 'NEGATIVE', 'score': 0.9996944665908813},\n",
       " {'label': 'NEGATIVE', 'score': 0.9852508306503296},\n",
       " {'label': 'POSITIVE', 'score': 0.9979088306427002},\n",
       " {'label': 'NEGATIVE', 'score': 0.9996572732925415},\n",
       " {'label': 'NEGATIVE', 'score': 0.999707043170929},\n",
       " {'label': 'POSITIVE', 'score': 0.9979088306427002}]"
      ]
     },
     "execution_count": 35,
     "metadata": {},
     "output_type": "execute_result"
    }
   ],
   "source": [
    "sentiment(summaries['FTX'])"
   ]
  },
  {
   "cell_type": "code",
   "execution_count": 36,
   "id": "5035cad4",
   "metadata": {},
   "outputs": [
    {
     "data": {
      "text/plain": [
       "{'ETH': [{'label': 'NEGATIVE', 'score': 0.9465776681900024},\n",
       "  {'label': 'NEGATIVE', 'score': 0.9990807771682739},\n",
       "  {'label': 'NEGATIVE', 'score': 0.9995892643928528},\n",
       "  {'label': 'NEGATIVE', 'score': 0.9995774626731873},\n",
       "  {'label': 'POSITIVE', 'score': 0.9979088306427002},\n",
       "  {'label': 'POSITIVE', 'score': 0.9823259711265564},\n",
       "  {'label': 'POSITIVE', 'score': 0.9737576842308044},\n",
       "  {'label': 'NEGATIVE', 'score': 0.9983112812042236},\n",
       "  {'label': 'POSITIVE', 'score': 0.8470471501350403},\n",
       "  {'label': 'NEGATIVE', 'score': 0.9993730187416077}],\n",
       " 'FTX': [{'label': 'NEGATIVE', 'score': 0.9955804944038391},\n",
       "  {'label': 'NEGATIVE', 'score': 0.9996664524078369},\n",
       "  {'label': 'NEGATIVE', 'score': 0.9976012110710144},\n",
       "  {'label': 'NEGATIVE', 'score': 0.9986016154289246},\n",
       "  {'label': 'NEGATIVE', 'score': 0.9996944665908813},\n",
       "  {'label': 'NEGATIVE', 'score': 0.9852508306503296},\n",
       "  {'label': 'POSITIVE', 'score': 0.9979088306427002},\n",
       "  {'label': 'NEGATIVE', 'score': 0.9996572732925415},\n",
       "  {'label': 'NEGATIVE', 'score': 0.999707043170929},\n",
       "  {'label': 'POSITIVE', 'score': 0.9979088306427002}],\n",
       " 'BTC': [{'label': 'NEGATIVE', 'score': 0.9955804944038391},\n",
       "  {'label': 'NEGATIVE', 'score': 0.8107017874717712},\n",
       "  {'label': 'NEGATIVE', 'score': 0.9997307658195496},\n",
       "  {'label': 'NEGATIVE', 'score': 0.9848794341087341},\n",
       "  {'label': 'NEGATIVE', 'score': 0.9995554089546204},\n",
       "  {'label': 'NEGATIVE', 'score': 0.9973641037940979},\n",
       "  {'label': 'NEGATIVE', 'score': 0.9462714195251465},\n",
       "  {'label': 'POSITIVE', 'score': 0.964364230632782},\n",
       "  {'label': 'NEGATIVE', 'score': 0.9937835931777954},\n",
       "  {'label': 'NEGATIVE', 'score': 0.9553768634796143}]}"
      ]
     },
     "execution_count": 36,
     "metadata": {},
     "output_type": "execute_result"
    }
   ],
   "source": [
    "scores = {ticker:sentiment(summaries[ticker]) for ticker in monitored_tickers}\n",
    "scores"
   ]
  },
  {
   "cell_type": "code",
   "execution_count": 38,
   "id": "f8b6a96d",
   "metadata": {
    "scrolled": true
   },
   "outputs": [
    {
     "name": "stdout",
     "output_type": "stream",
     "text": [
      "FTX is ‘one of the most damaging events in crypto history,’ ARK says. Regulators should ‘take draconian measures,’ firm says NEGATIVE 0.9986016154289246\n"
     ]
    }
   ],
   "source": [
    "print(summaries['FTX'][3], scores['FTX'][3]['label'], scores['FTX'][3]['score'])"
   ]
  },
  {
   "cell_type": "code",
   "execution_count": 41,
   "id": "3a7635f0",
   "metadata": {},
   "outputs": [
    {
     "name": "stdout",
     "output_type": "stream",
     "text": [
      "Ether Capital has no exposure to FTX or its affiliated businesses. Figment has confirmed there will be no direct or immediate impact to its business NEGATIVE 0.9995774626731873\n"
     ]
    }
   ],
   "source": [
    "print(summaries['ETH'][3], scores['ETH'][3]['label'], scores['ETH'][3]['score'])"
   ]
  },
  {
   "cell_type": "code",
   "execution_count": 39,
   "id": "dbfee355",
   "metadata": {},
   "outputs": [
    {
     "data": {
      "text/plain": [
       "0.9465776681900024"
      ]
     },
     "execution_count": 39,
     "metadata": {},
     "output_type": "execute_result"
    }
   ],
   "source": [
    "scores['ETH'][0]['score']"
   ]
  },
  {
   "cell_type": "markdown",
   "id": "8f92e717",
   "metadata": {},
   "source": [
    "# Exporting to CSV"
   ]
  },
  {
   "cell_type": "code",
   "execution_count": 42,
   "id": "515b571f",
   "metadata": {},
   "outputs": [
    {
     "data": {
      "text/plain": [
       "{'ETH': ['Uniswap overtakes Coinbase as second-largest platform for ethereum trades. Decentralised cryptocurrency exchanges have been in the news recently',\n",
       "  'Security firm Arkham finds $339 million in Ether, DAI, Maker’s stablecoin. Outflows at bankrupt FTX were caused by insider attack',\n",
       "  'Fund held more than $500 million in crypto as of Oct. 1. Ether has fallen more than 8% in the past two weeks',\n",
       "  'Ether Capital has no exposure to FTX or its affiliated businesses. Figment has confirmed there will be no direct or immediate impact to its business',\n",
       "  'We are aware of the issue and are working to resolve it.',\n",
       "  'Revenue for the second quarter was $29.6 million, up $44.2 million over previous quarter.',\n",
       "  'PRDT Finance is the first fully cross-chain prediction platform. The platform supports Bitcoin, Ethereum, BNB, Polygon',\n",
       "  \"Ethereum network usage has increased in recent days. Ether's supply has declined by 5,598 since the Merge upgrade\",\n",
       "  'Ether rose over 16% last week, overshadowing bitcoin’s 5% gain. Supply has increased since the platform switched to PoS mechanism',\n",
       "  'Crypto.com sent $400 million to rival Gate.io. CEO Marszalek: ‘It was supposed to be a move to a new cold storage address.’'],\n",
       " 'FTX': ['FTX-driven crypto rout is a wake-up call for investors. S&P 500 is up 5.9% in past five trading sessions',\n",
       "  'FTX may have more than 1 million creditors, court document shows. Bitcoin has fallen by more than 14% since FTX filed for bankruptcy',\n",
       "  'Saylor compares Bankman-Fried to Jordan Belfort. FTX filed for Chapter 11 bankruptcy following a failed takeover',\n",
       "  'FTX is ‘one of the most damaging events in crypto history,’ ARK says. Regulators should ‘take draconian measures,’ firm says',\n",
       "  'FTX, once one of the world’s largest, filed for bankruptcy. Analysts say hundreds of millions of dollars may have vanished',\n",
       "  'Ikigai says it had a ‘large majority’ of its assets on FTX. Crypto lenders BlockFi, Berkeley Research also provide updates',\n",
       "  'We are aware of the issue and are working to resolve it.',\n",
       "  'FTX says ‘unauthorized access’ to its accounts. Analysts say hundreds of millions of dollars are missing',\n",
       "  'FTX has collapsed, tanking his fortune by 94%. Bankman-Fried told The New York Times that playing video game cleared his mind',\n",
       "  'We are aware of the issue and are working to resolve it.'],\n",
       " 'BTC': ['FTX-driven crypto rout is a wake-up call for investors. S&P 500 is up 5.9% in past five trading sessions',\n",
       "  'Cryptocurrencies have taken off, most recently experiencing a meteoric rise and fall.',\n",
       "  'Billionaire investor doesn’t like the asset, says it’s unproductive. Bitcoin has lost more than half its value since hitting peak',\n",
       "  'FTX, once third-largest crypto exchange, filed for bankruptcy. Whales, shrimps are among crypto holders to pull tokens: Glassnode',\n",
       "  'Robert Shiller says new bottom for Bitcoin could be as low as $10,000.',\n",
       "  'Largest crypto exchange had been in talks to buy rival FTX. FTX has been struggling with a $2 billion gap',\n",
       "  'Revenue from digital currency mining of $18.5 million for nine-month period ended September 30, 2022.',\n",
       "  'Analysts at Morgan Stanley see $14,000 as next level to watch',\n",
       "  'Grayscale’s GBTC has a 42% discount to Bitcoin’s value. Regulators have repeatedly denied requests to convert GBTC into an ETF',\n",
       "  'Buffett has been a vocal critic of the cryptocurrency. Bitcoin has plunged 65% since November 2021']}"
      ]
     },
     "execution_count": 42,
     "metadata": {},
     "output_type": "execute_result"
    }
   ],
   "source": [
    "summaries"
   ]
  },
  {
   "cell_type": "code",
   "execution_count": 43,
   "id": "9e11e8b7",
   "metadata": {},
   "outputs": [
    {
     "data": {
      "text/plain": [
       "{'ETH': [{'label': 'NEGATIVE', 'score': 0.9465776681900024},\n",
       "  {'label': 'NEGATIVE', 'score': 0.9990807771682739},\n",
       "  {'label': 'NEGATIVE', 'score': 0.9995892643928528},\n",
       "  {'label': 'NEGATIVE', 'score': 0.9995774626731873},\n",
       "  {'label': 'POSITIVE', 'score': 0.9979088306427002},\n",
       "  {'label': 'POSITIVE', 'score': 0.9823259711265564},\n",
       "  {'label': 'POSITIVE', 'score': 0.9737576842308044},\n",
       "  {'label': 'NEGATIVE', 'score': 0.9983112812042236},\n",
       "  {'label': 'POSITIVE', 'score': 0.8470471501350403},\n",
       "  {'label': 'NEGATIVE', 'score': 0.9993730187416077}],\n",
       " 'FTX': [{'label': 'NEGATIVE', 'score': 0.9955804944038391},\n",
       "  {'label': 'NEGATIVE', 'score': 0.9996664524078369},\n",
       "  {'label': 'NEGATIVE', 'score': 0.9976012110710144},\n",
       "  {'label': 'NEGATIVE', 'score': 0.9986016154289246},\n",
       "  {'label': 'NEGATIVE', 'score': 0.9996944665908813},\n",
       "  {'label': 'NEGATIVE', 'score': 0.9852508306503296},\n",
       "  {'label': 'POSITIVE', 'score': 0.9979088306427002},\n",
       "  {'label': 'NEGATIVE', 'score': 0.9996572732925415},\n",
       "  {'label': 'NEGATIVE', 'score': 0.999707043170929},\n",
       "  {'label': 'POSITIVE', 'score': 0.9979088306427002}],\n",
       " 'BTC': [{'label': 'NEGATIVE', 'score': 0.9955804944038391},\n",
       "  {'label': 'NEGATIVE', 'score': 0.8107017874717712},\n",
       "  {'label': 'NEGATIVE', 'score': 0.9997307658195496},\n",
       "  {'label': 'NEGATIVE', 'score': 0.9848794341087341},\n",
       "  {'label': 'NEGATIVE', 'score': 0.9995554089546204},\n",
       "  {'label': 'NEGATIVE', 'score': 0.9973641037940979},\n",
       "  {'label': 'NEGATIVE', 'score': 0.9462714195251465},\n",
       "  {'label': 'POSITIVE', 'score': 0.964364230632782},\n",
       "  {'label': 'NEGATIVE', 'score': 0.9937835931777954},\n",
       "  {'label': 'NEGATIVE', 'score': 0.9553768634796143}]}"
      ]
     },
     "execution_count": 43,
     "metadata": {},
     "output_type": "execute_result"
    }
   ],
   "source": [
    "scores"
   ]
  },
  {
   "cell_type": "code",
   "execution_count": 44,
   "id": "eb601fe1",
   "metadata": {
    "scrolled": true
   },
   "outputs": [
    {
     "data": {
      "text/plain": [
       "{'ETH': ['https://uk.finance.yahoo.com/news/defi-exchange-overtakes-coinbase-for-eth-trades-ftx-161934796.html',\n",
       "  'https://finance.yahoo.com/news/ftx-hacker-panicked-still-holds-233057265.html',\n",
       "  'https://finance.yahoo.com/news/crypto-fund-alamedas-ethereum-wallet-105636445.html',\n",
       "  'https://finance.yahoo.com/news/ether-capital-corporation-maintains-highest-173500016.html',\n",
       "  'https://finance.yahoo.com/news/first-mover-americas-ftxs-hacked-133244491.html',\n",
       "  'https://finance.yahoo.com/news/retransmission-hive-announces-quarterly-revenue-110000288.html',\n",
       "  'https://finance.yahoo.com/news/one-prdt-finance-might-roll-130000713.html',\n",
       "  'https://finance.yahoo.com/news/ether-turns-deflationary-amount-eth-095751397.html',\n",
       "  'https://finance.yahoo.com/news/ether-sees-biggest-weekly-gain-082926717.html',\n",
       "  'https://finance.yahoo.com/news/crypto-com-accidentally-sent-400m-145924881.html'],\n",
       " 'FTX': ['https://finance.yahoo.com/news/ft-xs-bust-and-crypto-crash-come-with-two-silver-linings-103045894.html',\n",
       "  'https://finance.yahoo.com/news/ftx-creditors-1-million-bankruptcy-142549111.html',\n",
       "  'https://finance.yahoo.com/news/sam-bankman-fried-jordan-belfort-of-crypto-era-microstrategy-193604232.html',\n",
       "  'https://finance.yahoo.com/news/ark-invest-ftx-delay-institutional-crypto-adoption-213422035.html',\n",
       "  'https://finance.yahoo.com/news/explainer-whats-happening-bankrupt-crypto-213335145.html',\n",
       "  'https://finance.yahoo.com/news/ikigai-blockfi-ftx-193551128.html',\n",
       "  'https://finance.yahoo.com/video/coinbase-major-ramp-off-ramp-203807219.html',\n",
       "  'https://finance.yahoo.com/news/funds-disappear-imploding-crypto-exchange-213514063.html',\n",
       "  'https://finance.yahoo.com/news/losing-almost-fortune-ftxs-sam-133052491.html',\n",
       "  'https://finance.yahoo.com/video/ftx-binance-fallout-creates-crypto-161926938.html'],\n",
       " 'BTC': ['https://finance.yahoo.com/news/ft-xs-bust-and-crypto-crash-come-with-two-silver-linings-103045894.html',\n",
       "  'https://finance.yahoo.com/news/bitcoin-what-to-know-about-crypto-185658105.html',\n",
       "  'https://finance.yahoo.com/news/come-bad-ending-one-since-120000331.html',\n",
       "  'https://finance.yahoo.com/news/crypto-investors-pulling-bitcoin-exchanges-205544298.html',\n",
       "  'https://finance.yahoo.com/news/rich-dad-poor-dad-author-150109662.html',\n",
       "  'https://finance.yahoo.com/news/bitcoin-crypto-ftx-binance-contagion-224955324.html',\n",
       "  'https://finance.yahoo.com/news/digihost-reports-positive-third-quarter-110000487.html',\n",
       "  'https://finance.yahoo.com/news/renewed-bitcoin-market-swoon-put-084806575.html',\n",
       "  'https://finance.yahoo.com/news/world-biggest-crypto-fund-hits-150837105.html',\n",
       "  'https://finance.yahoo.com/news/warren-buffett-dismissed-bitcoin-worthless-092907947.html']}"
      ]
     },
     "execution_count": 44,
     "metadata": {},
     "output_type": "execute_result"
    }
   ],
   "source": [
    "cleaned_urls"
   ]
  },
  {
   "cell_type": "code",
   "execution_count": 46,
   "id": "01116866",
   "metadata": {},
   "outputs": [
    {
     "data": {
      "text/plain": [
       "'Ether Capital has no exposure to FTX or its affiliated businesses. Figment has confirmed there will be no direct or immediate impact to its business'"
      ]
     },
     "execution_count": 46,
     "metadata": {},
     "output_type": "execute_result"
    }
   ],
   "source": [
    "summaries['ETH'][3]"
   ]
  },
  {
   "cell_type": "code",
   "execution_count": 47,
   "id": "8837bce9",
   "metadata": {},
   "outputs": [],
   "source": [
    "def create_output_array(summaries, scores, urls):\n",
    "    output = []\n",
    "    for ticker in monitored_tickers:\n",
    "        for counter in range(len(summaries[ticker])):\n",
    "            output_this = [\n",
    "                ticker,\n",
    "                summaries[ticker][counter],\n",
    "                scores[ticker][counter]['label'],\n",
    "                scores[ticker][counter]['score'],\n",
    "                urls[ticker][counter]\n",
    "            ]\n",
    "            output.append(output_this)\n",
    "    return output"
   ]
  },
  {
   "cell_type": "code",
   "execution_count": 48,
   "id": "06e09a9c",
   "metadata": {},
   "outputs": [
    {
     "data": {
      "text/plain": [
       "[['ETH',\n",
       "  'Uniswap overtakes Coinbase as second-largest platform for ethereum trades. Decentralised cryptocurrency exchanges have been in the news recently',\n",
       "  'NEGATIVE',\n",
       "  0.9465776681900024,\n",
       "  'https://uk.finance.yahoo.com/news/defi-exchange-overtakes-coinbase-for-eth-trades-ftx-161934796.html'],\n",
       " ['ETH',\n",
       "  'Security firm Arkham finds $339 million in Ether, DAI, Maker’s stablecoin. Outflows at bankrupt FTX were caused by insider attack',\n",
       "  'NEGATIVE',\n",
       "  0.9990807771682739,\n",
       "  'https://finance.yahoo.com/news/ftx-hacker-panicked-still-holds-233057265.html'],\n",
       " ['ETH',\n",
       "  'Fund held more than $500 million in crypto as of Oct. 1. Ether has fallen more than 8% in the past two weeks',\n",
       "  'NEGATIVE',\n",
       "  0.9995892643928528,\n",
       "  'https://finance.yahoo.com/news/crypto-fund-alamedas-ethereum-wallet-105636445.html'],\n",
       " ['ETH',\n",
       "  'Ether Capital has no exposure to FTX or its affiliated businesses. Figment has confirmed there will be no direct or immediate impact to its business',\n",
       "  'NEGATIVE',\n",
       "  0.9995774626731873,\n",
       "  'https://finance.yahoo.com/news/ether-capital-corporation-maintains-highest-173500016.html'],\n",
       " ['ETH',\n",
       "  'We are aware of the issue and are working to resolve it.',\n",
       "  'POSITIVE',\n",
       "  0.9979088306427002,\n",
       "  'https://finance.yahoo.com/news/first-mover-americas-ftxs-hacked-133244491.html'],\n",
       " ['ETH',\n",
       "  'Revenue for the second quarter was $29.6 million, up $44.2 million over previous quarter.',\n",
       "  'POSITIVE',\n",
       "  0.9823259711265564,\n",
       "  'https://finance.yahoo.com/news/retransmission-hive-announces-quarterly-revenue-110000288.html'],\n",
       " ['ETH',\n",
       "  'PRDT Finance is the first fully cross-chain prediction platform. The platform supports Bitcoin, Ethereum, BNB, Polygon',\n",
       "  'POSITIVE',\n",
       "  0.9737576842308044,\n",
       "  'https://finance.yahoo.com/news/one-prdt-finance-might-roll-130000713.html'],\n",
       " ['ETH',\n",
       "  \"Ethereum network usage has increased in recent days. Ether's supply has declined by 5,598 since the Merge upgrade\",\n",
       "  'NEGATIVE',\n",
       "  0.9983112812042236,\n",
       "  'https://finance.yahoo.com/news/ether-turns-deflationary-amount-eth-095751397.html'],\n",
       " ['ETH',\n",
       "  'Ether rose over 16% last week, overshadowing bitcoin’s 5% gain. Supply has increased since the platform switched to PoS mechanism',\n",
       "  'POSITIVE',\n",
       "  0.8470471501350403,\n",
       "  'https://finance.yahoo.com/news/ether-sees-biggest-weekly-gain-082926717.html'],\n",
       " ['ETH',\n",
       "  'Crypto.com sent $400 million to rival Gate.io. CEO Marszalek: ‘It was supposed to be a move to a new cold storage address.’',\n",
       "  'NEGATIVE',\n",
       "  0.9993730187416077,\n",
       "  'https://finance.yahoo.com/news/crypto-com-accidentally-sent-400m-145924881.html'],\n",
       " ['FTX',\n",
       "  'FTX-driven crypto rout is a wake-up call for investors. S&P 500 is up 5.9% in past five trading sessions',\n",
       "  'NEGATIVE',\n",
       "  0.9955804944038391,\n",
       "  'https://finance.yahoo.com/news/ft-xs-bust-and-crypto-crash-come-with-two-silver-linings-103045894.html'],\n",
       " ['FTX',\n",
       "  'FTX may have more than 1 million creditors, court document shows. Bitcoin has fallen by more than 14% since FTX filed for bankruptcy',\n",
       "  'NEGATIVE',\n",
       "  0.9996664524078369,\n",
       "  'https://finance.yahoo.com/news/ftx-creditors-1-million-bankruptcy-142549111.html'],\n",
       " ['FTX',\n",
       "  'Saylor compares Bankman-Fried to Jordan Belfort. FTX filed for Chapter 11 bankruptcy following a failed takeover',\n",
       "  'NEGATIVE',\n",
       "  0.9976012110710144,\n",
       "  'https://finance.yahoo.com/news/sam-bankman-fried-jordan-belfort-of-crypto-era-microstrategy-193604232.html'],\n",
       " ['FTX',\n",
       "  'FTX is ‘one of the most damaging events in crypto history,’ ARK says. Regulators should ‘take draconian measures,’ firm says',\n",
       "  'NEGATIVE',\n",
       "  0.9986016154289246,\n",
       "  'https://finance.yahoo.com/news/ark-invest-ftx-delay-institutional-crypto-adoption-213422035.html'],\n",
       " ['FTX',\n",
       "  'FTX, once one of the world’s largest, filed for bankruptcy. Analysts say hundreds of millions of dollars may have vanished',\n",
       "  'NEGATIVE',\n",
       "  0.9996944665908813,\n",
       "  'https://finance.yahoo.com/news/explainer-whats-happening-bankrupt-crypto-213335145.html'],\n",
       " ['FTX',\n",
       "  'Ikigai says it had a ‘large majority’ of its assets on FTX. Crypto lenders BlockFi, Berkeley Research also provide updates',\n",
       "  'NEGATIVE',\n",
       "  0.9852508306503296,\n",
       "  'https://finance.yahoo.com/news/ikigai-blockfi-ftx-193551128.html'],\n",
       " ['FTX',\n",
       "  'We are aware of the issue and are working to resolve it.',\n",
       "  'POSITIVE',\n",
       "  0.9979088306427002,\n",
       "  'https://finance.yahoo.com/video/coinbase-major-ramp-off-ramp-203807219.html'],\n",
       " ['FTX',\n",
       "  'FTX says ‘unauthorized access’ to its accounts. Analysts say hundreds of millions of dollars are missing',\n",
       "  'NEGATIVE',\n",
       "  0.9996572732925415,\n",
       "  'https://finance.yahoo.com/news/funds-disappear-imploding-crypto-exchange-213514063.html'],\n",
       " ['FTX',\n",
       "  'FTX has collapsed, tanking his fortune by 94%. Bankman-Fried told The New York Times that playing video game cleared his mind',\n",
       "  'NEGATIVE',\n",
       "  0.999707043170929,\n",
       "  'https://finance.yahoo.com/news/losing-almost-fortune-ftxs-sam-133052491.html'],\n",
       " ['FTX',\n",
       "  'We are aware of the issue and are working to resolve it.',\n",
       "  'POSITIVE',\n",
       "  0.9979088306427002,\n",
       "  'https://finance.yahoo.com/video/ftx-binance-fallout-creates-crypto-161926938.html'],\n",
       " ['BTC',\n",
       "  'FTX-driven crypto rout is a wake-up call for investors. S&P 500 is up 5.9% in past five trading sessions',\n",
       "  'NEGATIVE',\n",
       "  0.9955804944038391,\n",
       "  'https://finance.yahoo.com/news/ft-xs-bust-and-crypto-crash-come-with-two-silver-linings-103045894.html'],\n",
       " ['BTC',\n",
       "  'Cryptocurrencies have taken off, most recently experiencing a meteoric rise and fall.',\n",
       "  'NEGATIVE',\n",
       "  0.8107017874717712,\n",
       "  'https://finance.yahoo.com/news/bitcoin-what-to-know-about-crypto-185658105.html'],\n",
       " ['BTC',\n",
       "  'Billionaire investor doesn’t like the asset, says it’s unproductive. Bitcoin has lost more than half its value since hitting peak',\n",
       "  'NEGATIVE',\n",
       "  0.9997307658195496,\n",
       "  'https://finance.yahoo.com/news/come-bad-ending-one-since-120000331.html'],\n",
       " ['BTC',\n",
       "  'FTX, once third-largest crypto exchange, filed for bankruptcy. Whales, shrimps are among crypto holders to pull tokens: Glassnode',\n",
       "  'NEGATIVE',\n",
       "  0.9848794341087341,\n",
       "  'https://finance.yahoo.com/news/crypto-investors-pulling-bitcoin-exchanges-205544298.html'],\n",
       " ['BTC',\n",
       "  'Robert Shiller says new bottom for Bitcoin could be as low as $10,000.',\n",
       "  'NEGATIVE',\n",
       "  0.9995554089546204,\n",
       "  'https://finance.yahoo.com/news/rich-dad-poor-dad-author-150109662.html'],\n",
       " ['BTC',\n",
       "  'Largest crypto exchange had been in talks to buy rival FTX. FTX has been struggling with a $2 billion gap',\n",
       "  'NEGATIVE',\n",
       "  0.9973641037940979,\n",
       "  'https://finance.yahoo.com/news/bitcoin-crypto-ftx-binance-contagion-224955324.html'],\n",
       " ['BTC',\n",
       "  'Revenue from digital currency mining of $18.5 million for nine-month period ended September 30, 2022.',\n",
       "  'NEGATIVE',\n",
       "  0.9462714195251465,\n",
       "  'https://finance.yahoo.com/news/digihost-reports-positive-third-quarter-110000487.html'],\n",
       " ['BTC',\n",
       "  'Analysts at Morgan Stanley see $14,000 as next level to watch',\n",
       "  'POSITIVE',\n",
       "  0.964364230632782,\n",
       "  'https://finance.yahoo.com/news/renewed-bitcoin-market-swoon-put-084806575.html'],\n",
       " ['BTC',\n",
       "  'Grayscale’s GBTC has a 42% discount to Bitcoin’s value. Regulators have repeatedly denied requests to convert GBTC into an ETF',\n",
       "  'NEGATIVE',\n",
       "  0.9937835931777954,\n",
       "  'https://finance.yahoo.com/news/world-biggest-crypto-fund-hits-150837105.html'],\n",
       " ['BTC',\n",
       "  'Buffett has been a vocal critic of the cryptocurrency. Bitcoin has plunged 65% since November 2021',\n",
       "  'NEGATIVE',\n",
       "  0.9553768634796143,\n",
       "  'https://finance.yahoo.com/news/warren-buffett-dismissed-bitcoin-worthless-092907947.html']]"
      ]
     },
     "execution_count": 48,
     "metadata": {},
     "output_type": "execute_result"
    }
   ],
   "source": [
    "final_output = create_output_array(summaries, scores, cleaned_urls)\n",
    "final_output"
   ]
  },
  {
   "cell_type": "code",
   "execution_count": 49,
   "id": "fe31bff3",
   "metadata": {},
   "outputs": [],
   "source": [
    "final_output.insert(0, ['Ticker', 'Summary', 'Label', 'Confidence', 'URL'])"
   ]
  },
  {
   "cell_type": "code",
   "execution_count": 50,
   "id": "70a70e65",
   "metadata": {},
   "outputs": [
    {
     "data": {
      "text/plain": [
       "[['Ticker', 'Summary', 'Label', 'Confidence', 'URL'],\n",
       " ['ETH',\n",
       "  'Uniswap overtakes Coinbase as second-largest platform for ethereum trades. Decentralised cryptocurrency exchanges have been in the news recently',\n",
       "  'NEGATIVE',\n",
       "  0.9465776681900024,\n",
       "  'https://uk.finance.yahoo.com/news/defi-exchange-overtakes-coinbase-for-eth-trades-ftx-161934796.html'],\n",
       " ['ETH',\n",
       "  'Security firm Arkham finds $339 million in Ether, DAI, Maker’s stablecoin. Outflows at bankrupt FTX were caused by insider attack',\n",
       "  'NEGATIVE',\n",
       "  0.9990807771682739,\n",
       "  'https://finance.yahoo.com/news/ftx-hacker-panicked-still-holds-233057265.html'],\n",
       " ['ETH',\n",
       "  'Fund held more than $500 million in crypto as of Oct. 1. Ether has fallen more than 8% in the past two weeks',\n",
       "  'NEGATIVE',\n",
       "  0.9995892643928528,\n",
       "  'https://finance.yahoo.com/news/crypto-fund-alamedas-ethereum-wallet-105636445.html'],\n",
       " ['ETH',\n",
       "  'Ether Capital has no exposure to FTX or its affiliated businesses. Figment has confirmed there will be no direct or immediate impact to its business',\n",
       "  'NEGATIVE',\n",
       "  0.9995774626731873,\n",
       "  'https://finance.yahoo.com/news/ether-capital-corporation-maintains-highest-173500016.html'],\n",
       " ['ETH',\n",
       "  'We are aware of the issue and are working to resolve it.',\n",
       "  'POSITIVE',\n",
       "  0.9979088306427002,\n",
       "  'https://finance.yahoo.com/news/first-mover-americas-ftxs-hacked-133244491.html'],\n",
       " ['ETH',\n",
       "  'Revenue for the second quarter was $29.6 million, up $44.2 million over previous quarter.',\n",
       "  'POSITIVE',\n",
       "  0.9823259711265564,\n",
       "  'https://finance.yahoo.com/news/retransmission-hive-announces-quarterly-revenue-110000288.html'],\n",
       " ['ETH',\n",
       "  'PRDT Finance is the first fully cross-chain prediction platform. The platform supports Bitcoin, Ethereum, BNB, Polygon',\n",
       "  'POSITIVE',\n",
       "  0.9737576842308044,\n",
       "  'https://finance.yahoo.com/news/one-prdt-finance-might-roll-130000713.html'],\n",
       " ['ETH',\n",
       "  \"Ethereum network usage has increased in recent days. Ether's supply has declined by 5,598 since the Merge upgrade\",\n",
       "  'NEGATIVE',\n",
       "  0.9983112812042236,\n",
       "  'https://finance.yahoo.com/news/ether-turns-deflationary-amount-eth-095751397.html'],\n",
       " ['ETH',\n",
       "  'Ether rose over 16% last week, overshadowing bitcoin’s 5% gain. Supply has increased since the platform switched to PoS mechanism',\n",
       "  'POSITIVE',\n",
       "  0.8470471501350403,\n",
       "  'https://finance.yahoo.com/news/ether-sees-biggest-weekly-gain-082926717.html'],\n",
       " ['ETH',\n",
       "  'Crypto.com sent $400 million to rival Gate.io. CEO Marszalek: ‘It was supposed to be a move to a new cold storage address.’',\n",
       "  'NEGATIVE',\n",
       "  0.9993730187416077,\n",
       "  'https://finance.yahoo.com/news/crypto-com-accidentally-sent-400m-145924881.html'],\n",
       " ['FTX',\n",
       "  'FTX-driven crypto rout is a wake-up call for investors. S&P 500 is up 5.9% in past five trading sessions',\n",
       "  'NEGATIVE',\n",
       "  0.9955804944038391,\n",
       "  'https://finance.yahoo.com/news/ft-xs-bust-and-crypto-crash-come-with-two-silver-linings-103045894.html'],\n",
       " ['FTX',\n",
       "  'FTX may have more than 1 million creditors, court document shows. Bitcoin has fallen by more than 14% since FTX filed for bankruptcy',\n",
       "  'NEGATIVE',\n",
       "  0.9996664524078369,\n",
       "  'https://finance.yahoo.com/news/ftx-creditors-1-million-bankruptcy-142549111.html'],\n",
       " ['FTX',\n",
       "  'Saylor compares Bankman-Fried to Jordan Belfort. FTX filed for Chapter 11 bankruptcy following a failed takeover',\n",
       "  'NEGATIVE',\n",
       "  0.9976012110710144,\n",
       "  'https://finance.yahoo.com/news/sam-bankman-fried-jordan-belfort-of-crypto-era-microstrategy-193604232.html'],\n",
       " ['FTX',\n",
       "  'FTX is ‘one of the most damaging events in crypto history,’ ARK says. Regulators should ‘take draconian measures,’ firm says',\n",
       "  'NEGATIVE',\n",
       "  0.9986016154289246,\n",
       "  'https://finance.yahoo.com/news/ark-invest-ftx-delay-institutional-crypto-adoption-213422035.html'],\n",
       " ['FTX',\n",
       "  'FTX, once one of the world’s largest, filed for bankruptcy. Analysts say hundreds of millions of dollars may have vanished',\n",
       "  'NEGATIVE',\n",
       "  0.9996944665908813,\n",
       "  'https://finance.yahoo.com/news/explainer-whats-happening-bankrupt-crypto-213335145.html'],\n",
       " ['FTX',\n",
       "  'Ikigai says it had a ‘large majority’ of its assets on FTX. Crypto lenders BlockFi, Berkeley Research also provide updates',\n",
       "  'NEGATIVE',\n",
       "  0.9852508306503296,\n",
       "  'https://finance.yahoo.com/news/ikigai-blockfi-ftx-193551128.html'],\n",
       " ['FTX',\n",
       "  'We are aware of the issue and are working to resolve it.',\n",
       "  'POSITIVE',\n",
       "  0.9979088306427002,\n",
       "  'https://finance.yahoo.com/video/coinbase-major-ramp-off-ramp-203807219.html'],\n",
       " ['FTX',\n",
       "  'FTX says ‘unauthorized access’ to its accounts. Analysts say hundreds of millions of dollars are missing',\n",
       "  'NEGATIVE',\n",
       "  0.9996572732925415,\n",
       "  'https://finance.yahoo.com/news/funds-disappear-imploding-crypto-exchange-213514063.html'],\n",
       " ['FTX',\n",
       "  'FTX has collapsed, tanking his fortune by 94%. Bankman-Fried told The New York Times that playing video game cleared his mind',\n",
       "  'NEGATIVE',\n",
       "  0.999707043170929,\n",
       "  'https://finance.yahoo.com/news/losing-almost-fortune-ftxs-sam-133052491.html'],\n",
       " ['FTX',\n",
       "  'We are aware of the issue and are working to resolve it.',\n",
       "  'POSITIVE',\n",
       "  0.9979088306427002,\n",
       "  'https://finance.yahoo.com/video/ftx-binance-fallout-creates-crypto-161926938.html'],\n",
       " ['BTC',\n",
       "  'FTX-driven crypto rout is a wake-up call for investors. S&P 500 is up 5.9% in past five trading sessions',\n",
       "  'NEGATIVE',\n",
       "  0.9955804944038391,\n",
       "  'https://finance.yahoo.com/news/ft-xs-bust-and-crypto-crash-come-with-two-silver-linings-103045894.html'],\n",
       " ['BTC',\n",
       "  'Cryptocurrencies have taken off, most recently experiencing a meteoric rise and fall.',\n",
       "  'NEGATIVE',\n",
       "  0.8107017874717712,\n",
       "  'https://finance.yahoo.com/news/bitcoin-what-to-know-about-crypto-185658105.html'],\n",
       " ['BTC',\n",
       "  'Billionaire investor doesn’t like the asset, says it’s unproductive. Bitcoin has lost more than half its value since hitting peak',\n",
       "  'NEGATIVE',\n",
       "  0.9997307658195496,\n",
       "  'https://finance.yahoo.com/news/come-bad-ending-one-since-120000331.html'],\n",
       " ['BTC',\n",
       "  'FTX, once third-largest crypto exchange, filed for bankruptcy. Whales, shrimps are among crypto holders to pull tokens: Glassnode',\n",
       "  'NEGATIVE',\n",
       "  0.9848794341087341,\n",
       "  'https://finance.yahoo.com/news/crypto-investors-pulling-bitcoin-exchanges-205544298.html'],\n",
       " ['BTC',\n",
       "  'Robert Shiller says new bottom for Bitcoin could be as low as $10,000.',\n",
       "  'NEGATIVE',\n",
       "  0.9995554089546204,\n",
       "  'https://finance.yahoo.com/news/rich-dad-poor-dad-author-150109662.html'],\n",
       " ['BTC',\n",
       "  'Largest crypto exchange had been in talks to buy rival FTX. FTX has been struggling with a $2 billion gap',\n",
       "  'NEGATIVE',\n",
       "  0.9973641037940979,\n",
       "  'https://finance.yahoo.com/news/bitcoin-crypto-ftx-binance-contagion-224955324.html'],\n",
       " ['BTC',\n",
       "  'Revenue from digital currency mining of $18.5 million for nine-month period ended September 30, 2022.',\n",
       "  'NEGATIVE',\n",
       "  0.9462714195251465,\n",
       "  'https://finance.yahoo.com/news/digihost-reports-positive-third-quarter-110000487.html'],\n",
       " ['BTC',\n",
       "  'Analysts at Morgan Stanley see $14,000 as next level to watch',\n",
       "  'POSITIVE',\n",
       "  0.964364230632782,\n",
       "  'https://finance.yahoo.com/news/renewed-bitcoin-market-swoon-put-084806575.html'],\n",
       " ['BTC',\n",
       "  'Grayscale’s GBTC has a 42% discount to Bitcoin’s value. Regulators have repeatedly denied requests to convert GBTC into an ETF',\n",
       "  'NEGATIVE',\n",
       "  0.9937835931777954,\n",
       "  'https://finance.yahoo.com/news/world-biggest-crypto-fund-hits-150837105.html'],\n",
       " ['BTC',\n",
       "  'Buffett has been a vocal critic of the cryptocurrency. Bitcoin has plunged 65% since November 2021',\n",
       "  'NEGATIVE',\n",
       "  0.9553768634796143,\n",
       "  'https://finance.yahoo.com/news/warren-buffett-dismissed-bitcoin-worthless-092907947.html']]"
      ]
     },
     "execution_count": 50,
     "metadata": {},
     "output_type": "execute_result"
    }
   ],
   "source": [
    "final_output"
   ]
  },
  {
   "cell_type": "code",
   "execution_count": 53,
   "id": "2b1e9ef4",
   "metadata": {},
   "outputs": [],
   "source": [
    "with open('summaries.csv', mode='w', newline='') as f:\n",
    "    csv_writer = csv.writer(f, delimiter=',', quotechar='\"', quoting=csv.QUOTE_MINIMAL)\n",
    "    csv_writer.writerows(final_output)"
   ]
  },
  {
   "cell_type": "code",
   "execution_count": null,
   "id": "3666cfbd",
   "metadata": {},
   "outputs": [],
   "source": []
  }
 ],
 "metadata": {
  "kernelspec": {
   "display_name": "Python 3 (ipykernel)",
   "language": "python",
   "name": "python3"
  },
  "language_info": {
   "codemirror_mode": {
    "name": "ipython",
    "version": 3
   },
   "file_extension": ".py",
   "mimetype": "text/x-python",
   "name": "python",
   "nbconvert_exporter": "python",
   "pygments_lexer": "ipython3",
   "version": "3.9.13"
  }
 },
 "nbformat": 4,
 "nbformat_minor": 5
}
